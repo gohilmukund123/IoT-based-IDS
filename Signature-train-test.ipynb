{
 "cells": [
  {
   "cell_type": "code",
   "execution_count": 1,
   "id": "aa7cbb83",
   "metadata": {},
   "outputs": [],
   "source": [
    "import numpy as np\n",
    "import pandas as pd\n",
    "from sklearn.kernel_approximation import RBFSampler\n",
    "from sklearn.linear_model import SGDClassifier\n",
    "from sklearn.model_selection import train_test_split\n",
    "from sklearn import svm\n",
    "from sklearn.metrics import classification_report\n",
    "from sklearn import metrics\n",
    "from sklearn.linear_model import LogisticRegression\n",
    "from sklearn.naive_bayes import GaussianNB\n",
    "from sklearn.neighbors import KNeighborsClassifier\n",
    "from sklearn.tree import DecisionTreeClassifier\n",
    "from sklearn.metrics import (precision_score, recall_score,f1_score, accuracy_score,mean_squared_error,mean_absolute_error)\n",
    "from sklearn.ensemble import AdaBoostClassifier\n",
    "from sklearn.ensemble import RandomForestClassifier\n",
    "from sklearn.preprocessing import Normalizer\n",
    "from sklearn.model_selection import GridSearchCV\n",
    "from sklearn.svm import SVC\n",
    "from sklearn.metrics import confusion_matrix\n",
    "from sklearn.metrics import (precision_score, recall_score,f1_score, accuracy_score,mean_squared_error,mean_absolute_error, roc_curve, classification_report,auc)\n",
    "from sklearn.preprocessing import LabelEncoder"
   ]
  },
  {
   "cell_type": "code",
   "execution_count": 2,
   "id": "cc4e2866",
   "metadata": {},
   "outputs": [],
   "source": [
    "# First read the parquet files without specifying names\n",
    "traindata = pd.read_parquet('C:/Users/Liberty/OneDrive/Desktop/iot project/dataset/UNSW_NB15_training-set.parquet')\n",
    "testdata = pd.read_parquet('C:/Users/Liberty/OneDrive/Desktop/iot project/dataset/UNSW_NB15_testing-set.parquet')"
   ]
  },
  {
   "cell_type": "code",
   "execution_count": 12,
   "id": "1d530a08",
   "metadata": {},
   "outputs": [
    {
     "name": "stdout",
     "output_type": "stream",
     "text": [
      "Data Shape: (175341, 36)\n",
      "Columns:\n",
      "['dur', 'proto', 'service', 'state', 'spkts', 'dpkts', 'sbytes', 'dbytes', 'rate', 'sload', 'dload', 'sloss', 'dloss', 'sinpkt', 'dinpkt', 'sjit', 'djit', 'swin', 'stcpb', 'dtcpb', 'dwin', 'tcprtt', 'synack', 'ackdat', 'smean', 'dmean', 'trans_depth', 'response_body_len', 'ct_src_dport_ltm', 'ct_dst_sport_ltm', 'is_ftp_login', 'ct_ftp_cmd', 'ct_flw_http_mthd', 'is_sm_ips_ports', 'attack_cat', 'label']\n",
      "\n",
      "Data Types:\n",
      "dur                   float32\n",
      "proto                category\n",
      "service              category\n",
      "state                category\n",
      "spkts                   int16\n",
      "dpkts                   int16\n",
      "sbytes                  int32\n",
      "dbytes                  int32\n",
      "rate                  float32\n",
      "sload                 float32\n",
      "dload                 float32\n",
      "sloss                   int16\n",
      "dloss                   int16\n",
      "sinpkt                float32\n",
      "dinpkt                float32\n",
      "sjit                  float32\n",
      "djit                  float32\n",
      "swin                    int16\n",
      "stcpb                   int64\n",
      "dtcpb                   int64\n",
      "dwin                    int16\n",
      "tcprtt                float32\n",
      "synack                float32\n",
      "ackdat                float32\n",
      "smean                   int16\n",
      "dmean                   int16\n",
      "trans_depth             int16\n",
      "response_body_len       int32\n",
      "ct_src_dport_ltm         int8\n",
      "ct_dst_sport_ltm         int8\n",
      "is_ftp_login             int8\n",
      "ct_ftp_cmd               int8\n",
      "ct_flw_http_mthd         int8\n",
      "is_sm_ips_ports          int8\n",
      "attack_cat           category\n",
      "label                    int8\n",
      "dtype: object\n",
      "\n",
      "First few rows:\n",
      "        dur proto service state  spkts  dpkts  sbytes  dbytes       rate  \\\n",
      "0  0.121478   tcp       -   FIN      6      4     258     172  74.087486   \n",
      "1  0.649902   tcp       -   FIN     14     38     734   42014  78.473373   \n",
      "2  1.623129   tcp       -   FIN      8     16     364   13186  14.170161   \n",
      "3  1.681642   tcp     ftp   FIN     12     12     628     770  13.677108   \n",
      "4  0.449454   tcp       -   FIN     10      6     534     268  33.373825   \n",
      "\n",
      "          sload  ...  trans_depth  response_body_len  ct_src_dport_ltm  \\\n",
      "0  14158.942383  ...            0                  0                 1   \n",
      "1   8395.112305  ...            0                  0                 1   \n",
      "2   1572.271851  ...            0                  0                 1   \n",
      "3   2740.178955  ...            0                  0                 1   \n",
      "4   8561.499023  ...            0                  0                 2   \n",
      "\n",
      "   ct_dst_sport_ltm  is_ftp_login  ct_ftp_cmd  ct_flw_http_mthd  \\\n",
      "0                 1             0           0                 0   \n",
      "1                 1             0           0                 0   \n",
      "2                 1             0           0                 0   \n",
      "3                 1             1           1                 0   \n",
      "4                 1             0           0                 0   \n",
      "\n",
      "   is_sm_ips_ports  attack_cat  label  \n",
      "0                0      Normal      0  \n",
      "1                0      Normal      0  \n",
      "2                0      Normal      0  \n",
      "3                0      Normal      0  \n",
      "4                0      Normal      0  \n",
      "\n",
      "[5 rows x 36 columns]\n"
     ]
    }
   ],
   "source": [
    "df = pd.DataFrame(traindata)\n",
    "\n",
    "# Display the shape and column names\n",
    "print(\"Data Shape:\", df.shape)\n",
    "print(\"Columns:\")\n",
    "print(df.columns.tolist())\n",
    "\n",
    "# Display information about the data types and a sample of the data\n",
    "print(\"\\nData Types:\")\n",
    "print(df.dtypes)\n",
    "print(\"\\nFirst few rows:\")\n",
    "print(df.head())"
   ]
  },
  {
   "cell_type": "code",
   "execution_count": null,
   "id": "5e922a0f",
   "metadata": {},
   "outputs": [
    {
     "name": "stdout",
     "output_type": "stream",
     "text": [
      "Data Shape: (82332, 36)\n",
      "Columns:\n",
      "['dur', 'proto', 'service', 'state', 'spkts', 'dpkts', 'sbytes', 'dbytes', 'rate', 'sload', 'dload', 'sloss', 'dloss', 'sinpkt', 'dinpkt', 'sjit', 'djit', 'swin', 'stcpb', 'dtcpb', 'dwin', 'tcprtt', 'synack', 'ackdat', 'smean', 'dmean', 'trans_depth', 'response_body_len', 'ct_src_dport_ltm', 'ct_dst_sport_ltm', 'is_ftp_login', 'ct_ftp_cmd', 'ct_flw_http_mthd', 'is_sm_ips_ports', 'attack_cat', 'label']\n",
      "\n",
      "Data Types:\n",
      "dur                   float32\n",
      "proto                category\n",
      "service              category\n",
      "state                category\n",
      "spkts                   int16\n",
      "dpkts                   int16\n",
      "sbytes                  int32\n",
      "dbytes                  int32\n",
      "rate                  float32\n",
      "sload                 float32\n",
      "dload                 float32\n",
      "sloss                   int16\n",
      "dloss                   int16\n",
      "sinpkt                float32\n",
      "dinpkt                float32\n",
      "sjit                  float32\n",
      "djit                  float32\n",
      "swin                    int16\n",
      "stcpb                   int64\n",
      "dtcpb                   int64\n",
      "dwin                    int16\n",
      "tcprtt                float32\n",
      "synack                float32\n",
      "ackdat                float32\n",
      "smean                   int16\n",
      "dmean                   int16\n",
      "trans_depth             int16\n",
      "response_body_len       int32\n",
      "ct_src_dport_ltm         int8\n",
      "ct_dst_sport_ltm         int8\n",
      "is_ftp_login             int8\n",
      "ct_ftp_cmd               int8\n",
      "ct_flw_http_mthd         int8\n",
      "is_sm_ips_ports          int8\n",
      "attack_cat           category\n",
      "label                    int8\n",
      "dtype: object\n",
      "\n",
      "First few rows:\n",
      "        dur proto service state  spkts  dpkts  sbytes  dbytes          rate  \\\n",
      "0  0.000011   udp       -   INT      2      0     496       0   90909.09375   \n",
      "1  0.000008   udp       -   INT      2      0    1762       0  125000.00000   \n",
      "2  0.000005   udp       -   INT      2      0    1068       0  200000.00000   \n",
      "3  0.000006   udp       -   INT      2      0     900       0  166666.65625   \n",
      "4  0.000010   udp       -   INT      2      0    2126       0  100000.00000   \n",
      "\n",
      "         sload  ...  trans_depth  response_body_len  ct_src_dport_ltm  \\\n",
      "0  180363632.0  ...            0                  0                 1   \n",
      "1  881000000.0  ...            0                  0                 1   \n",
      "2  854400000.0  ...            0                  0                 1   \n",
      "3  600000000.0  ...            0                  0                 2   \n",
      "4  850400000.0  ...            0                  0                 2   \n",
      "\n",
      "   ct_dst_sport_ltm  is_ftp_login  ct_ftp_cmd  ct_flw_http_mthd  \\\n",
      "0                 1             0           0                 0   \n",
      "1                 1             0           0                 0   \n",
      "2                 1             0           0                 0   \n",
      "3                 1             0           0                 0   \n",
      "4                 1             0           0                 0   \n",
      "\n",
      "   is_sm_ips_ports  attack_cat  label  \n",
      "0                0      Normal      0  \n",
      "1                0      Normal      0  \n",
      "2                0      Normal      0  \n",
      "3                0      Normal      0  \n",
      "4                0      Normal      0  \n",
      "\n",
      "[5 rows x 36 columns]\n"
     ]
    }
   ],
   "source": [
    "df = pd.DataFrame(testdata)\n",
    "\n",
    "# Display the shape and column names\n",
    "print(\"Data Shape:\", df.shape)\n",
    "print(\"Columns:\")\n",
    "print(df.columns.tolist())\n",
    "\n",
    "# Display infdf = pd.DataFrame(testdata)\n",
    "\n",
    "# Display the shape and column names\n",
    "print(f\"Data Shape: {df.shape}\")\n",
    "print(\"Columns:\")\n",
    "print(df.columns.tolist())\n",
    "\n",
    "# Display information about the data types and a sample of the data\n",
    "print(\"\\nData Types:\")\n",
    "print(df.dtypes)\n",
    "print(\"\\nFirst few rows:\")\n",
    "print(df.head())\n",
    "print(\"\\nData Types:\")\n",
    "print(df.dtypes)\n",
    "print(\"\\nFirst few rows:\")\n",
    "print(df.head())"
   ]
  },
  {
   "cell_type": "code",
   "execution_count": 5,
   "id": "fc9e2433",
   "metadata": {},
   "outputs": [],
   "source": [
    "# If you need to rename the columns, you can do it after reading:\n",
    "column_names = ['dur', 'proto', 'service', 'state', 'spkts', 'dpkts', 'sbytes',\n",
    "                'dbytes', 'rate', 'sload', 'dload', 'sloss', 'dloss', 'sinpkt',\n",
    "                'dinpkt', 'sjit', 'djit', 'swin', 'stcpb', 'dtcpb', 'dwin', 'tcprtt',\n",
    "                'synack', 'ackdat', 'smean', 'dmean', 'trans_depth',\n",
    "                'response_body_len', 'ct_src_dport_ltm', 'ct_dst_sport_ltm',\n",
    "                'is_ftp_login', 'ct_ftp_cmd', 'ct_flw_http_mthd', 'is_sm_ips_ports',\n",
    "                'attack_cat', 'label']\n",
    "\n",
    "traindata.columns = column_names\n",
    "testdata.columns = column_names"
   ]
  },
  {
   "cell_type": "code",
   "execution_count": 6,
   "id": "7527aeac",
   "metadata": {},
   "outputs": [],
   "source": [
    "for column in traindata.columns:\n",
    "    if traindata[column].dtype == type(object):\n",
    "        le = LabelEncoder()\n",
    "        traindata[column] = le.fit_transform(traindata[column])"
   ]
  },
  {
   "cell_type": "code",
   "execution_count": 7,
   "id": "425dbd47",
   "metadata": {},
   "outputs": [],
   "source": [
    "for column in testdata.columns:\n",
    "    if testdata[column].dtype == type(object):\n",
    "        le = LabelEncoder()\n",
    "        testdata[column] = le.fit_transform(testdata[column])"
   ]
  },
  {
   "cell_type": "code",
   "execution_count": 9,
   "id": "08c34955",
   "metadata": {},
   "outputs": [
    {
     "name": "stdout",
     "output_type": "stream",
     "text": [
      "(175341, 36)\n"
     ]
    }
   ],
   "source": [
    "print(traindata.shape)\n"
   ]
  },
  {
   "cell_type": "code",
   "execution_count": 10,
   "id": "735abff5",
   "metadata": {},
   "outputs": [],
   "source": [
    "X1 = traindata.iloc[:, 1:35]  \n",
    "Y1 = traindata.iloc[:, 35]\n",
    "X2 = testdata.iloc[:, 1:35]\n",
    "Y2 = testdata.iloc[:, 35]"
   ]
  },
  {
   "cell_type": "code",
   "execution_count": 14,
   "id": "4abbc4ea",
   "metadata": {},
   "outputs": [
    {
     "name": "stdout",
     "output_type": "stream",
     "text": [
      "Transformed training shape: (175341, 197)\n",
      "Transformed testing shape: (82332, 197)\n"
     ]
    }
   ],
   "source": [
    "# Create one-hot encoded features for the categorical columns\n",
    "X1_numeric = pd.get_dummies(X1)\n",
    "X2_numeric = pd.get_dummies(X2)\n",
    "\n",
    "# Make sure both training and testing have the same columns\n",
    "X1_numeric, X2_numeric = X1_numeric.align(X2_numeric, join='outer', axis=1, fill_value=0)\n",
    "\n",
    "# Normalize your numeric data\n",
    "scaler = Normalizer().fit(X1_numeric)\n",
    "trainX = scaler.transform(X1_numeric)\n",
    "\n",
    "scaler = Normalizer().fit(X2_numeric)\n",
    "testT = scaler.transform(X2_numeric)\n",
    "\n",
    "print(\"Transformed training shape:\", trainX.shape)\n",
    "print(\"Transformed testing shape:\", testT.shape)"
   ]
  },
  {
   "cell_type": "code",
   "execution_count": 15,
   "id": "8624c7d7",
   "metadata": {},
   "outputs": [],
   "source": [
    "traindata = np.array(trainX)\n",
    "trainlabel = np.array(Y1)\n",
    "\n",
    "testdata = np.array(testT)\n",
    "testlabel = np.array(Y2)"
   ]
  },
  {
   "cell_type": "code",
   "execution_count": 17,
   "id": "f8e5bf48",
   "metadata": {},
   "outputs": [
    {
     "name": "stdout",
     "output_type": "stream",
     "text": [
      "DecisionTreeClassifier()\n"
     ]
    }
   ],
   "source": [
    "model = DecisionTreeClassifier()\n",
    "model.fit(traindata, trainlabel)\n",
    "print(model)\n",
    "# make predictions\n",
    "expected = testlabel\n",
    "predicted = model.predict(testdata)\n",
    "np.savetxt('res/predictedDT.txt', predicted, fmt='%01d')\n",
    "np.savetxt('res/expectedDT.txt', expected, fmt='%01d')\n",
    "# summarize the fit of the model\n",
    "accuracy = accuracy_score(expected, predicted)\n",
    "recall = recall_score(expected, predicted, average=\"binary\")\n",
    "precision = precision_score(expected, predicted , average=\"binary\")\n",
    "f1 = f1_score(expected, predicted , average=\"binary\")"
   ]
  },
  {
   "cell_type": "code",
   "execution_count": 19,
   "id": "e7fadb0d",
   "metadata": {},
   "outputs": [
    {
     "name": "stdout",
     "output_type": "stream",
     "text": [
      "Confusion Matrix:\n",
      "[[24911 12089]\n",
      " [ 3454 41878]]\n",
      "True Positive Rate (Recall): 0.924\n",
      "False Positive Rate: 0.327\n",
      "Accuracy\n",
      "0.811\n",
      "precision\n",
      "0.776\n",
      "recall\n",
      "0.924\n",
      "f-score\n",
      "0.843\n",
      "fpr\n",
      "0.327\n",
      "tpr\n",
      "0.924\n",
      "***************************************************************\n"
     ]
    }
   ],
   "source": [
    "cm = metrics.confusion_matrix(expected, predicted)\n",
    "print(\"Confusion Matrix:\")\n",
    "print(cm)\n",
    "\n",
    "# Correct computation:\n",
    "# TPR (Recall/Sensitivity) = TP / (TP + FN)\n",
    "tpr = float(cm[1][1]) / np.sum(cm[1])\n",
    "# FPR = FP / (FP + TN)\n",
    "fpr = float(cm[0][1]) / np.sum(cm[0])\n",
    "\n",
    "print(\"True Positive Rate (Recall): %.3f\" % tpr)\n",
    "print(\"False Positive Rate: %.3f\" % fpr)\n",
    "print(\"Accuracy\")\n",
    "print(\"%.3f\" %accuracy)\n",
    "print(\"precision\")\n",
    "print(\"%.3f\" %precision)\n",
    "print(\"recall\")\n",
    "print(\"%.3f\" %recall)\n",
    "print(\"f-score\")\n",
    "print(\"%.3f\" %f1)\n",
    "print(\"fpr\")\n",
    "print(\"%.3f\" %fpr)\n",
    "print(\"tpr\")\n",
    "print(\"%.3f\" %tpr)\n",
    "print(\"***************************************************************\")"
   ]
  }
 ],
 "metadata": {
  "kernelspec": {
   "display_name": "Python 3",
   "language": "python",
   "name": "python3"
  },
  "language_info": {
   "codemirror_mode": {
    "name": "ipython",
    "version": 3
   },
   "file_extension": ".py",
   "mimetype": "text/x-python",
   "name": "python",
   "nbconvert_exporter": "python",
   "pygments_lexer": "ipython3",
   "version": "3.11.4"
  }
 },
 "nbformat": 4,
 "nbformat_minor": 5
}
