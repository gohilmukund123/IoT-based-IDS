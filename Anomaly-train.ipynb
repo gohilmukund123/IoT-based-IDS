{
 "cells": [
  {
   "cell_type": "code",
   "execution_count": 2,
   "id": "3125ea78",
   "metadata": {},
   "outputs": [
    {
     "name": "stdout",
     "output_type": "stream",
     "text": [
      "Collecting numpy\n",
      "  Downloading numpy-2.2.4-cp311-cp311-win_amd64.whl (12.9 MB)\n",
      "                                              0.0/12.9 MB ? eta -:--:--\n",
      "                                              0.1/12.9 MB 2.6 MB/s eta 0:00:05\n",
      "     --                                       0.7/12.9 MB 7.2 MB/s eta 0:00:02\n",
      "     --                                       0.9/12.9 MB 7.4 MB/s eta 0:00:02\n",
      "     ---                                      1.3/12.9 MB 6.2 MB/s eta 0:00:02\n",
      "     -----                                    1.8/12.9 MB 6.9 MB/s eta 0:00:02\n",
      "     -------                                  2.4/12.9 MB 7.8 MB/s eta 0:00:02\n",
      "     ---------                                3.2/12.9 MB 8.9 MB/s eta 0:00:02\n",
      "     -------------                            4.4/12.9 MB 10.4 MB/s eta 0:00:01\n",
      "     ----------------                         5.2/12.9 MB 10.8 MB/s eta 0:00:01\n",
      "     ------------------                       5.8/12.9 MB 11.0 MB/s eta 0:00:01\n",
      "     --------------------                     6.8/12.9 MB 12.1 MB/s eta 0:00:01\n",
      "     -----------------------                  7.5/12.9 MB 12.4 MB/s eta 0:00:01\n",
      "     --------------------------               8.7/12.9 MB 13.2 MB/s eta 0:00:01\n",
      "     ------------------------------           9.9/12.9 MB 13.8 MB/s eta 0:00:01\n",
      "     ---------------------------------       11.3/12.9 MB 17.7 MB/s eta 0:00:01\n",
      "     --------------------------------------  12.9/12.9 MB 20.5 MB/s eta 0:00:01\n",
      "     --------------------------------------  12.9/12.9 MB 20.5 MB/s eta 0:00:01\n",
      "     --------------------------------------- 12.9/12.9 MB 16.8 MB/s eta 0:00:00\n",
      "Installing collected packages: numpy\n",
      "Successfully installed numpy-2.2.4\n",
      "Note: you may need to restart the kernel to use updated packages.\n"
     ]
    },
    {
     "name": "stderr",
     "output_type": "stream",
     "text": [
      "\n",
      "[notice] A new release of pip is available: 23.1.2 -> 25.0.1\n",
      "[notice] To update, run: python.exe -m pip install --upgrade pip\n"
     ]
    }
   ],
   "source": [
    "%pip install numpy"
   ]
  },
  {
   "cell_type": "code",
   "execution_count": 3,
   "id": "16bbeb3b",
   "metadata": {},
   "outputs": [],
   "source": [
    "from __future__ import print_function\n",
    "import numpy as np\n",
    "np.random.seed(1337)  # for reproducibility"
   ]
  },
  {
   "cell_type": "code",
   "execution_count": 5,
   "id": "425cb18f",
   "metadata": {},
   "outputs": [
    {
     "name": "stdout",
     "output_type": "stream",
     "text": [
      "Collecting keras\n",
      "  Downloading keras-3.9.2-py3-none-any.whl (1.3 MB)\n",
      "                                              0.0/1.3 MB ? eta -:--:--\n",
      "     ------------                             0.4/1.3 MB 6.6 MB/s eta 0:00:01\n",
      "     ---------------------------------------  1.3/1.3 MB 12.2 MB/s eta 0:00:01\n",
      "     ---------------------------------------- 1.3/1.3 MB 10.7 MB/s eta 0:00:00\n",
      "Collecting absl-py (from keras)\n",
      "  Downloading absl_py-2.2.2-py3-none-any.whl (135 kB)\n",
      "                                              0.0/135.6 kB ? eta -:--:--\n",
      "     ---------------------------------------- 135.6/135.6 kB ? eta 0:00:00\n",
      "Requirement already satisfied: numpy in c:\\users\\liberty\\onedrive\\desktop\\iot project\\anomaly_env\\lib\\site-packages (from keras) (2.2.4)\n",
      "Collecting rich (from keras)\n",
      "  Downloading rich-14.0.0-py3-none-any.whl (243 kB)\n",
      "                                              0.0/243.2 kB ? eta -:--:--\n",
      "     ---------------------------------------- 243.2/243.2 kB ? eta 0:00:00\n",
      "Collecting namex (from keras)\n",
      "  Downloading namex-0.0.8-py3-none-any.whl (5.8 kB)\n",
      "Collecting h5py (from keras)\n",
      "  Downloading h5py-3.13.0-cp311-cp311-win_amd64.whl (3.0 MB)\n",
      "                                              0.0/3.0 MB ? eta -:--:--\n",
      "     ---------------------                    1.6/3.0 MB 20.3 MB/s eta 0:00:01\n",
      "     ------------------------------------     2.7/3.0 MB 21.4 MB/s eta 0:00:01\n",
      "     ---------------------------------------- 3.0/3.0 MB 15.7 MB/s eta 0:00:00\n",
      "Collecting optree (from keras)\n",
      "  Downloading optree-0.15.0-cp311-cp311-win_amd64.whl (306 kB)\n",
      "                                              0.0/306.6 kB ? eta -:--:--\n",
      "     ------------------------------------- 306.6/306.6 kB 19.8 MB/s eta 0:00:00\n",
      "Collecting ml-dtypes (from keras)\n",
      "  Downloading ml_dtypes-0.5.1-cp311-cp311-win_amd64.whl (209 kB)\n",
      "                                              0.0/209.7 kB ? eta -:--:--\n",
      "     ------------------------------------- 209.7/209.7 kB 12.5 MB/s eta 0:00:00\n",
      "Requirement already satisfied: packaging in c:\\users\\liberty\\onedrive\\desktop\\iot project\\anomaly_env\\lib\\site-packages (from keras) (24.2)\n",
      "Requirement already satisfied: typing-extensions>=4.5.0 in c:\\users\\liberty\\onedrive\\desktop\\iot project\\anomaly_env\\lib\\site-packages (from optree->keras) (4.13.1)\n",
      "Collecting markdown-it-py>=2.2.0 (from rich->keras)\n",
      "  Downloading markdown_it_py-3.0.0-py3-none-any.whl (87 kB)\n",
      "                                              0.0/87.5 kB ? eta -:--:--\n",
      "     ---------------------------------------- 87.5/87.5 kB ? eta 0:00:00\n",
      "Requirement already satisfied: pygments<3.0.0,>=2.13.0 in c:\\users\\liberty\\onedrive\\desktop\\iot project\\anomaly_env\\lib\\site-packages (from rich->keras) (2.19.1)\n",
      "Collecting mdurl~=0.1 (from markdown-it-py>=2.2.0->rich->keras)\n",
      "  Downloading mdurl-0.1.2-py3-none-any.whl (10.0 kB)\n",
      "Installing collected packages: namex, optree, ml-dtypes, mdurl, h5py, absl-py, markdown-it-py, rich, keras\n",
      "Successfully installed absl-py-2.2.2 h5py-3.13.0 keras-3.9.2 markdown-it-py-3.0.0 mdurl-0.1.2 ml-dtypes-0.5.1 namex-0.0.8 optree-0.15.0 rich-14.0.0\n",
      "Note: you may need to restart the kernel to use updated packages.\n"
     ]
    },
    {
     "name": "stderr",
     "output_type": "stream",
     "text": [
      "\n",
      "[notice] A new release of pip is available: 23.1.2 -> 25.0.1\n",
      "[notice] To update, run: python.exe -m pip install --upgrade pip\n"
     ]
    }
   ],
   "source": [
    "%pip install keras"
   ]
  },
  {
   "cell_type": "code",
   "execution_count": 6,
   "id": "05eec348",
   "metadata": {},
   "outputs": [
    {
     "name": "stdout",
     "output_type": "stream",
     "text": [
      "Collecting pandas\n",
      "  Downloading pandas-2.2.3-cp311-cp311-win_amd64.whl (11.6 MB)\n",
      "                                              0.0/11.6 MB ? eta -:--:--\n",
      "     -                                        0.5/11.6 MB 14.9 MB/s eta 0:00:01\n",
      "     ----                                     1.4/11.6 MB 12.7 MB/s eta 0:00:01\n",
      "     ---------                                2.8/11.6 MB 15.1 MB/s eta 0:00:01\n",
      "     ---------------                          4.6/11.6 MB 16.3 MB/s eta 0:00:01\n",
      "     ---------------------                    6.3/11.6 MB 18.5 MB/s eta 0:00:01\n",
      "     ----------------------------             8.3/11.6 MB 18.3 MB/s eta 0:00:01\n",
      "     ----------------------------------      10.4/11.6 MB 19.9 MB/s eta 0:00:01\n",
      "     --------------------------------------  11.6/11.6 MB 22.6 MB/s eta 0:00:01\n",
      "     --------------------------------------  11.6/11.6 MB 22.6 MB/s eta 0:00:01\n",
      "     --------------------------------------  11.6/11.6 MB 22.6 MB/s eta 0:00:01\n",
      "     --------------------------------------- 11.6/11.6 MB 15.6 MB/s eta 0:00:00\n",
      "Requirement already satisfied: numpy>=1.23.2 in c:\\users\\liberty\\onedrive\\desktop\\iot project\\anomaly_env\\lib\\site-packages (from pandas) (2.2.4)\n",
      "Requirement already satisfied: python-dateutil>=2.8.2 in c:\\users\\liberty\\onedrive\\desktop\\iot project\\anomaly_env\\lib\\site-packages (from pandas) (2.9.0.post0)\n",
      "Collecting pytz>=2020.1 (from pandas)\n",
      "  Downloading pytz-2025.2-py2.py3-none-any.whl (509 kB)\n",
      "                                              0.0/509.2 kB ? eta -:--:--\n",
      "     ------------------------------------- 509.2/509.2 kB 31.2 MB/s eta 0:00:00\n",
      "Collecting tzdata>=2022.7 (from pandas)\n",
      "  Downloading tzdata-2025.2-py2.py3-none-any.whl (347 kB)\n",
      "                                              0.0/347.8 kB ? eta -:--:--\n",
      "     ------------------------------------- 347.8/347.8 kB 22.5 MB/s eta 0:00:00\n",
      "Requirement already satisfied: six>=1.5 in c:\\users\\liberty\\onedrive\\desktop\\iot project\\anomaly_env\\lib\\site-packages (from python-dateutil>=2.8.2->pandas) (1.17.0)\n",
      "Installing collected packages: pytz, tzdata, pandas\n",
      "Successfully installed pandas-2.2.3 pytz-2025.2 tzdata-2025.2\n",
      "Note: you may need to restart the kernel to use updated packages.\n"
     ]
    },
    {
     "name": "stderr",
     "output_type": "stream",
     "text": [
      "\n",
      "[notice] A new release of pip is available: 23.1.2 -> 25.0.1\n",
      "[notice] To update, run: python.exe -m pip install --upgrade pip\n"
     ]
    }
   ],
   "source": [
    "%pip install pandas"
   ]
  },
  {
   "cell_type": "code",
   "execution_count": 9,
   "id": "c82c9aeb",
   "metadata": {},
   "outputs": [
    {
     "name": "stdout",
     "output_type": "stream",
     "text": [
      "Collecting tensorflow\n",
      "  Downloading tensorflow-2.19.0-cp311-cp311-win_amd64.whl.metadata (4.1 kB)\n",
      "Requirement already satisfied: absl-py>=1.0.0 in c:\\users\\liberty\\onedrive\\desktop\\iot project\\anomaly_env\\lib\\site-packages (from tensorflow) (2.2.2)\n",
      "Collecting astunparse>=1.6.0 (from tensorflow)\n",
      "  Downloading astunparse-1.6.3-py2.py3-none-any.whl.metadata (4.4 kB)\n",
      "Collecting flatbuffers>=24.3.25 (from tensorflow)\n",
      "  Downloading flatbuffers-25.2.10-py2.py3-none-any.whl.metadata (875 bytes)\n",
      "Collecting gast!=0.5.0,!=0.5.1,!=0.5.2,>=0.2.1 (from tensorflow)\n",
      "  Downloading gast-0.6.0-py3-none-any.whl.metadata (1.3 kB)\n",
      "Collecting google-pasta>=0.1.1 (from tensorflow)\n",
      "  Downloading google_pasta-0.2.0-py3-none-any.whl.metadata (814 bytes)\n",
      "Collecting libclang>=13.0.0 (from tensorflow)\n",
      "  Downloading libclang-18.1.1-py2.py3-none-win_amd64.whl.metadata (5.3 kB)\n",
      "Collecting opt-einsum>=2.3.2 (from tensorflow)\n",
      "  Downloading opt_einsum-3.4.0-py3-none-any.whl.metadata (6.3 kB)\n",
      "Requirement already satisfied: packaging in c:\\users\\liberty\\onedrive\\desktop\\iot project\\anomaly_env\\lib\\site-packages (from tensorflow) (24.2)\n",
      "Collecting protobuf!=4.21.0,!=4.21.1,!=4.21.2,!=4.21.3,!=4.21.4,!=4.21.5,<6.0.0dev,>=3.20.3 (from tensorflow)\n",
      "  Downloading protobuf-5.29.4-cp310-abi3-win_amd64.whl.metadata (592 bytes)\n",
      "Collecting requests<3,>=2.21.0 (from tensorflow)\n",
      "  Downloading requests-2.32.3-py3-none-any.whl.metadata (4.6 kB)\n",
      "Requirement already satisfied: setuptools in c:\\users\\liberty\\onedrive\\desktop\\iot project\\anomaly_env\\lib\\site-packages (from tensorflow) (65.5.0)\n",
      "Requirement already satisfied: six>=1.12.0 in c:\\users\\liberty\\onedrive\\desktop\\iot project\\anomaly_env\\lib\\site-packages (from tensorflow) (1.17.0)\n",
      "Collecting termcolor>=1.1.0 (from tensorflow)\n",
      "  Downloading termcolor-3.0.1-py3-none-any.whl.metadata (6.1 kB)\n",
      "Requirement already satisfied: typing-extensions>=3.6.6 in c:\\users\\liberty\\onedrive\\desktop\\iot project\\anomaly_env\\lib\\site-packages (from tensorflow) (4.13.1)\n",
      "Collecting wrapt>=1.11.0 (from tensorflow)\n",
      "  Downloading wrapt-1.17.2-cp311-cp311-win_amd64.whl.metadata (6.5 kB)\n",
      "Collecting grpcio<2.0,>=1.24.3 (from tensorflow)\n",
      "  Downloading grpcio-1.71.0-cp311-cp311-win_amd64.whl.metadata (4.0 kB)\n",
      "Collecting tensorboard~=2.19.0 (from tensorflow)\n",
      "  Downloading tensorboard-2.19.0-py3-none-any.whl.metadata (1.8 kB)\n",
      "Requirement already satisfied: keras>=3.5.0 in c:\\users\\liberty\\onedrive\\desktop\\iot project\\anomaly_env\\lib\\site-packages (from tensorflow) (3.9.2)\n",
      "Collecting numpy<2.2.0,>=1.26.0 (from tensorflow)\n",
      "  Downloading numpy-2.1.3-cp311-cp311-win_amd64.whl.metadata (60 kB)\n",
      "Requirement already satisfied: h5py>=3.11.0 in c:\\users\\liberty\\onedrive\\desktop\\iot project\\anomaly_env\\lib\\site-packages (from tensorflow) (3.13.0)\n",
      "Requirement already satisfied: ml-dtypes<1.0.0,>=0.5.1 in c:\\users\\liberty\\onedrive\\desktop\\iot project\\anomaly_env\\lib\\site-packages (from tensorflow) (0.5.1)\n",
      "Collecting tensorflow-io-gcs-filesystem>=0.23.1 (from tensorflow)\n",
      "  Downloading tensorflow_io_gcs_filesystem-0.31.0-cp311-cp311-win_amd64.whl.metadata (14 kB)\n",
      "Collecting wheel<1.0,>=0.23.0 (from astunparse>=1.6.0->tensorflow)\n",
      "  Downloading wheel-0.46.1-py3-none-any.whl.metadata (2.4 kB)\n",
      "Requirement already satisfied: rich in c:\\users\\liberty\\onedrive\\desktop\\iot project\\anomaly_env\\lib\\site-packages (from keras>=3.5.0->tensorflow) (14.0.0)\n",
      "Requirement already satisfied: namex in c:\\users\\liberty\\onedrive\\desktop\\iot project\\anomaly_env\\lib\\site-packages (from keras>=3.5.0->tensorflow) (0.0.8)\n",
      "Requirement already satisfied: optree in c:\\users\\liberty\\onedrive\\desktop\\iot project\\anomaly_env\\lib\\site-packages (from keras>=3.5.0->tensorflow) (0.15.0)\n",
      "Collecting charset-normalizer<4,>=2 (from requests<3,>=2.21.0->tensorflow)\n",
      "  Downloading charset_normalizer-3.4.1-cp311-cp311-win_amd64.whl.metadata (36 kB)\n",
      "Collecting idna<4,>=2.5 (from requests<3,>=2.21.0->tensorflow)\n",
      "  Downloading idna-3.10-py3-none-any.whl.metadata (10 kB)\n",
      "Collecting urllib3<3,>=1.21.1 (from requests<3,>=2.21.0->tensorflow)\n",
      "  Downloading urllib3-2.3.0-py3-none-any.whl.metadata (6.5 kB)\n",
      "Collecting certifi>=2017.4.17 (from requests<3,>=2.21.0->tensorflow)\n",
      "  Downloading certifi-2025.1.31-py3-none-any.whl.metadata (2.5 kB)\n",
      "Collecting markdown>=2.6.8 (from tensorboard~=2.19.0->tensorflow)\n",
      "  Downloading Markdown-3.7-py3-none-any.whl.metadata (7.0 kB)\n",
      "Collecting tensorboard-data-server<0.8.0,>=0.7.0 (from tensorboard~=2.19.0->tensorflow)\n",
      "  Downloading tensorboard_data_server-0.7.2-py3-none-any.whl.metadata (1.1 kB)\n",
      "Collecting werkzeug>=1.0.1 (from tensorboard~=2.19.0->tensorflow)\n",
      "  Downloading werkzeug-3.1.3-py3-none-any.whl.metadata (3.7 kB)\n",
      "Collecting MarkupSafe>=2.1.1 (from werkzeug>=1.0.1->tensorboard~=2.19.0->tensorflow)\n",
      "  Downloading MarkupSafe-3.0.2-cp311-cp311-win_amd64.whl.metadata (4.1 kB)\n",
      "Requirement already satisfied: markdown-it-py>=2.2.0 in c:\\users\\liberty\\onedrive\\desktop\\iot project\\anomaly_env\\lib\\site-packages (from rich->keras>=3.5.0->tensorflow) (3.0.0)\n",
      "Requirement already satisfied: pygments<3.0.0,>=2.13.0 in c:\\users\\liberty\\onedrive\\desktop\\iot project\\anomaly_env\\lib\\site-packages (from rich->keras>=3.5.0->tensorflow) (2.19.1)\n",
      "Requirement already satisfied: mdurl~=0.1 in c:\\users\\liberty\\onedrive\\desktop\\iot project\\anomaly_env\\lib\\site-packages (from markdown-it-py>=2.2.0->rich->keras>=3.5.0->tensorflow) (0.1.2)\n",
      "Downloading tensorflow-2.19.0-cp311-cp311-win_amd64.whl (375.9 MB)\n",
      "   ---------------------------------------- 0.0/375.9 MB ? eta -:--:--\n",
      "   ---------------------------------------- 2.6/375.9 MB 15.0 MB/s eta 0:00:25\n",
      "    --------------------------------------- 6.6/375.9 MB 17.5 MB/s eta 0:00:22\n",
      "   - -------------------------------------- 10.0/375.9 MB 16.3 MB/s eta 0:00:23\n",
      "   - -------------------------------------- 12.8/375.9 MB 16.4 MB/s eta 0:00:23\n",
      "   - -------------------------------------- 15.2/375.9 MB 14.5 MB/s eta 0:00:25\n",
      "   -- ------------------------------------- 19.1/375.9 MB 15.3 MB/s eta 0:00:24\n",
      "   -- ------------------------------------- 22.5/375.9 MB 15.5 MB/s eta 0:00:23\n",
      "   -- ------------------------------------- 23.6/375.9 MB 14.0 MB/s eta 0:00:26\n",
      "   -- ------------------------------------- 26.0/375.9 MB 13.4 MB/s eta 0:00:27\n",
      "   --- ------------------------------------ 29.4/375.9 MB 13.5 MB/s eta 0:00:26\n",
      "   --- ------------------------------------ 31.5/375.9 MB 13.1 MB/s eta 0:00:27\n",
      "   --- ------------------------------------ 34.3/375.9 MB 13.4 MB/s eta 0:00:26\n",
      "   --- ------------------------------------ 37.2/375.9 MB 12.9 MB/s eta 0:00:27\n",
      "   ---- ----------------------------------- 41.2/375.9 MB 13.2 MB/s eta 0:00:26\n",
      "   ---- ----------------------------------- 44.6/375.9 MB 13.4 MB/s eta 0:00:25\n",
      "   ----- ---------------------------------- 47.2/375.9 MB 13.4 MB/s eta 0:00:25\n",
      "   ----- ---------------------------------- 51.9/375.9 MB 13.9 MB/s eta 0:00:24\n",
      "   ----- ---------------------------------- 55.1/375.9 MB 13.9 MB/s eta 0:00:24\n",
      "   ------ --------------------------------- 56.6/375.9 MB 13.5 MB/s eta 0:00:24\n",
      "   ------ --------------------------------- 57.9/375.9 MB 13.1 MB/s eta 0:00:25\n",
      "   ------ --------------------------------- 61.9/375.9 MB 13.4 MB/s eta 0:00:24\n",
      "   ------ --------------------------------- 65.5/375.9 MB 13.5 MB/s eta 0:00:23\n",
      "   ------- -------------------------------- 65.8/375.9 MB 13.5 MB/s eta 0:00:23\n",
      "   ------- -------------------------------- 66.8/375.9 MB 12.9 MB/s eta 0:00:25\n",
      "   ------- -------------------------------- 67.6/375.9 MB 12.5 MB/s eta 0:00:25\n",
      "   ------- -------------------------------- 67.6/375.9 MB 12.5 MB/s eta 0:00:25\n",
      "   ------- -------------------------------- 69.5/375.9 MB 11.8 MB/s eta 0:00:27\n",
      "   ------- -------------------------------- 73.4/375.9 MB 12.0 MB/s eta 0:00:26\n",
      "   -------- ------------------------------- 77.9/375.9 MB 12.3 MB/s eta 0:00:25\n",
      "   -------- ------------------------------- 84.1/375.9 MB 12.7 MB/s eta 0:00:23\n",
      "   --------- ------------------------------ 88.6/375.9 MB 13.0 MB/s eta 0:00:23\n",
      "   --------- ------------------------------ 93.6/375.9 MB 13.3 MB/s eta 0:00:22\n",
      "   ---------- ----------------------------- 97.5/375.9 MB 13.4 MB/s eta 0:00:21\n",
      "   ---------- ----------------------------- 98.8/375.9 MB 13.3 MB/s eta 0:00:21\n",
      "   ---------- ---------------------------- 103.5/375.9 MB 13.3 MB/s eta 0:00:21\n",
      "   ---------- ---------------------------- 105.1/375.9 MB 13.4 MB/s eta 0:00:21\n",
      "   ---------- ---------------------------- 105.1/375.9 MB 13.4 MB/s eta 0:00:21\n",
      "   ----------- --------------------------- 106.4/375.9 MB 12.7 MB/s eta 0:00:22\n",
      "   ----------- --------------------------- 108.5/375.9 MB 12.3 MB/s eta 0:00:22\n",
      "   ----------- --------------------------- 110.1/375.9 MB 12.2 MB/s eta 0:00:22\n",
      "   ----------- --------------------------- 111.4/375.9 MB 12.0 MB/s eta 0:00:23\n",
      "   ----------- --------------------------- 113.2/375.9 MB 12.0 MB/s eta 0:00:22\n",
      "   ----------- --------------------------- 115.1/375.9 MB 11.9 MB/s eta 0:00:22\n",
      "   ------------ -------------------------- 116.7/375.9 MB 11.8 MB/s eta 0:00:22\n",
      "   ------------ -------------------------- 119.0/375.9 MB 11.7 MB/s eta 0:00:22\n",
      "   ------------ -------------------------- 123.5/375.9 MB 11.9 MB/s eta 0:00:22\n",
      "   ------------- ------------------------- 127.9/375.9 MB 12.1 MB/s eta 0:00:21\n",
      "   ------------- ------------------------- 134.5/375.9 MB 12.3 MB/s eta 0:00:20\n",
      "   -------------- ------------------------ 140.0/375.9 MB 12.6 MB/s eta 0:00:19\n",
      "   --------------- ----------------------- 146.5/375.9 MB 12.8 MB/s eta 0:00:18\n",
      "   --------------- ----------------------- 149.9/375.9 MB 12.8 MB/s eta 0:00:18\n",
      "   --------------- ----------------------- 153.9/375.9 MB 12.9 MB/s eta 0:00:18\n",
      "   ---------------- ---------------------- 158.3/375.9 MB 12.9 MB/s eta 0:00:17\n",
      "   ---------------- ---------------------- 158.9/375.9 MB 12.9 MB/s eta 0:00:17\n",
      "   ---------------- ---------------------- 161.2/375.9 MB 12.7 MB/s eta 0:00:17\n",
      "   ---------------- ---------------------- 163.8/375.9 MB 12.7 MB/s eta 0:00:17\n",
      "   ----------------- --------------------- 168.6/375.9 MB 12.8 MB/s eta 0:00:17\n",
      "   ----------------- --------------------- 172.8/375.9 MB 12.9 MB/s eta 0:00:16\n",
      "   ------------------ -------------------- 178.3/375.9 MB 13.0 MB/s eta 0:00:16\n",
      "   ------------------- ------------------- 184.8/375.9 MB 13.3 MB/s eta 0:00:15\n",
      "   ------------------- ------------------- 189.3/375.9 MB 13.4 MB/s eta 0:00:14\n",
      "   -------------------- ------------------ 197.7/375.9 MB 13.7 MB/s eta 0:00:14\n",
      "   -------------------- ------------------ 201.1/375.9 MB 13.7 MB/s eta 0:00:13\n",
      "   --------------------- ----------------- 203.7/375.9 MB 13.6 MB/s eta 0:00:13\n",
      "   --------------------- ----------------- 210.5/375.9 MB 13.8 MB/s eta 0:00:13\n",
      "   ---------------------- ---------------- 212.6/375.9 MB 13.8 MB/s eta 0:00:12\n",
      "   ---------------------- ---------------- 216.3/375.9 MB 13.8 MB/s eta 0:00:12\n",
      "   ---------------------- ---------------- 221.5/375.9 MB 13.9 MB/s eta 0:00:12\n",
      "   ----------------------- --------------- 224.1/375.9 MB 13.9 MB/s eta 0:00:11\n",
      "   ----------------------- --------------- 229.1/375.9 MB 14.0 MB/s eta 0:00:11\n",
      "   ------------------------ -------------- 233.3/375.9 MB 14.1 MB/s eta 0:00:11\n",
      "   ------------------------ -------------- 233.6/375.9 MB 14.0 MB/s eta 0:00:11\n",
      "   ------------------------- ------------- 243.5/375.9 MB 14.3 MB/s eta 0:00:10\n",
      "   ------------------------- ------------- 247.7/375.9 MB 14.4 MB/s eta 0:00:09\n",
      "   -------------------------- ------------ 252.7/375.9 MB 14.5 MB/s eta 0:00:09\n",
      "   -------------------------- ------------ 254.5/375.9 MB 14.4 MB/s eta 0:00:09\n",
      "   -------------------------- ------------ 259.3/375.9 MB 14.5 MB/s eta 0:00:09\n",
      "   --------------------------- ----------- 264.0/375.9 MB 14.6 MB/s eta 0:00:08\n",
      "   --------------------------- ----------- 268.4/375.9 MB 14.6 MB/s eta 0:00:08\n",
      "   ---------------------------- ---------- 271.6/375.9 MB 14.6 MB/s eta 0:00:08\n",
      "   ---------------------------- ---------- 273.4/375.9 MB 14.5 MB/s eta 0:00:08\n",
      "   ---------------------------- ---------- 276.6/375.9 MB 14.6 MB/s eta 0:00:07\n",
      "   ---------------------------- ---------- 277.3/375.9 MB 14.6 MB/s eta 0:00:07\n",
      "   ----------------------------- --------- 281.8/375.9 MB 14.6 MB/s eta 0:00:07\n",
      "   ----------------------------- --------- 281.8/375.9 MB 14.6 MB/s eta 0:00:07\n",
      "   ----------------------------- --------- 286.0/375.9 MB 14.5 MB/s eta 0:00:07\n",
      "   ------------------------------ -------- 292.3/375.9 MB 14.7 MB/s eta 0:00:06\n",
      "   ------------------------------ -------- 296.0/375.9 MB 14.9 MB/s eta 0:00:06\n",
      "   ------------------------------ -------- 297.3/375.9 MB 14.7 MB/s eta 0:00:06\n",
      "   ------------------------------ -------- 298.1/375.9 MB 14.6 MB/s eta 0:00:06\n",
      "   ------------------------------- ------- 299.4/375.9 MB 14.6 MB/s eta 0:00:06\n",
      "   ------------------------------- ------- 301.5/375.9 MB 14.6 MB/s eta 0:00:06\n",
      "   ------------------------------- ------- 305.9/375.9 MB 14.5 MB/s eta 0:00:05\n",
      "   ------------------------------- ------- 308.3/375.9 MB 14.5 MB/s eta 0:00:05\n",
      "   -------------------------------- ------ 312.7/375.9 MB 14.5 MB/s eta 0:00:05\n",
      "   -------------------------------- ------ 315.9/375.9 MB 14.4 MB/s eta 0:00:05\n",
      "   --------------------------------- ----- 318.2/375.9 MB 14.5 MB/s eta 0:00:04\n",
      "   --------------------------------- ----- 320.1/375.9 MB 14.6 MB/s eta 0:00:04\n",
      "   --------------------------------- ----- 325.8/375.9 MB 14.6 MB/s eta 0:00:04\n",
      "   ---------------------------------- ---- 330.0/375.9 MB 15.3 MB/s eta 0:00:03\n",
      "   ---------------------------------- ---- 335.3/375.9 MB 15.3 MB/s eta 0:00:03\n",
      "   ----------------------------------- --- 341.3/375.9 MB 15.4 MB/s eta 0:00:03\n",
      "   ----------------------------------- --- 343.7/375.9 MB 15.4 MB/s eta 0:00:03\n",
      "   ------------------------------------ -- 349.7/375.9 MB 15.3 MB/s eta 0:00:02\n",
      "   ------------------------------------ -- 353.6/375.9 MB 15.3 MB/s eta 0:00:02\n",
      "   ------------------------------------- - 357.8/375.9 MB 15.3 MB/s eta 0:00:02\n",
      "   ------------------------------------- - 361.8/375.9 MB 15.4 MB/s eta 0:00:01\n",
      "   ------------------------------------- - 365.4/375.9 MB 15.5 MB/s eta 0:00:01\n",
      "   --------------------------------------  366.5/375.9 MB 15.3 MB/s eta 0:00:01\n",
      "   --------------------------------------  369.4/375.9 MB 15.9 MB/s eta 0:00:01\n",
      "   --------------------------------------  371.5/375.9 MB 15.8 MB/s eta 0:00:01\n",
      "   --------------------------------------  374.9/375.9 MB 16.0 MB/s eta 0:00:01\n",
      "   --------------------------------------  375.7/375.9 MB 16.2 MB/s eta 0:00:01\n",
      "   --------------------------------------  375.7/375.9 MB 16.2 MB/s eta 0:00:01\n",
      "   --------------------------------------  375.7/375.9 MB 16.2 MB/s eta 0:00:01\n",
      "   --------------------------------------  375.7/375.9 MB 16.2 MB/s eta 0:00:01\n",
      "   --------------------------------------  375.7/375.9 MB 16.2 MB/s eta 0:00:01\n",
      "   --------------------------------------  375.7/375.9 MB 16.2 MB/s eta 0:00:01\n",
      "   --------------------------------------  375.7/375.9 MB 16.2 MB/s eta 0:00:01\n",
      "   --------------------------------------  375.7/375.9 MB 16.2 MB/s eta 0:00:01\n",
      "   --------------------------------------  375.7/375.9 MB 16.2 MB/s eta 0:00:01\n",
      "   --------------------------------------  375.7/375.9 MB 16.2 MB/s eta 0:00:01\n",
      "   --------------------------------------  375.7/375.9 MB 16.2 MB/s eta 0:00:01\n",
      "   --------------------------------------  375.7/375.9 MB 16.2 MB/s eta 0:00:01\n",
      "   --------------------------------------  375.7/375.9 MB 16.2 MB/s eta 0:00:01\n",
      "   --------------------------------------  375.7/375.9 MB 16.2 MB/s eta 0:00:01\n",
      "   --------------------------------------  375.7/375.9 MB 16.2 MB/s eta 0:00:01\n",
      "   --------------------------------------  375.7/375.9 MB 16.2 MB/s eta 0:00:01\n",
      "   --------------------------------------  375.7/375.9 MB 16.2 MB/s eta 0:00:01\n",
      "   --------------------------------------  375.7/375.9 MB 16.2 MB/s eta 0:00:01\n",
      "   --------------------------------------  375.7/375.9 MB 16.2 MB/s eta 0:00:01\n",
      "   --------------------------------------  375.7/375.9 MB 16.2 MB/s eta 0:00:01\n",
      "   --------------------------------------  375.7/375.9 MB 16.2 MB/s eta 0:00:01\n",
      "   --------------------------------------  375.7/375.9 MB 16.2 MB/s eta 0:00:01\n",
      "   --------------------------------------  375.7/375.9 MB 16.2 MB/s eta 0:00:01\n",
      "   --------------------------------------  375.7/375.9 MB 16.2 MB/s eta 0:00:01\n",
      "   --------------------------------------  375.7/375.9 MB 16.2 MB/s eta 0:00:01\n",
      "   --------------------------------------  375.7/375.9 MB 16.2 MB/s eta 0:00:01\n",
      "   --------------------------------------  375.7/375.9 MB 16.2 MB/s eta 0:00:01\n",
      "   --------------------------------------  375.7/375.9 MB 16.2 MB/s eta 0:00:01\n",
      "   --------------------------------------  375.7/375.9 MB 16.2 MB/s eta 0:00:01\n",
      "   --------------------------------------  375.7/375.9 MB 16.2 MB/s eta 0:00:01\n",
      "   --------------------------------------  375.7/375.9 MB 16.2 MB/s eta 0:00:01\n",
      "   --------------------------------------  375.7/375.9 MB 16.2 MB/s eta 0:00:01\n",
      "   --------------------------------------  375.7/375.9 MB 16.2 MB/s eta 0:00:01\n",
      "   --------------------------------------  375.7/375.9 MB 16.2 MB/s eta 0:00:01\n",
      "   --------------------------------------  375.7/375.9 MB 16.2 MB/s eta 0:00:01\n",
      "   --------------------------------------  375.7/375.9 MB 16.2 MB/s eta 0:00:01\n",
      "   --------------------------------------  375.7/375.9 MB 16.2 MB/s eta 0:00:01\n",
      "   --------------------------------------  375.7/375.9 MB 16.2 MB/s eta 0:00:01\n",
      "   --------------------------------------  375.7/375.9 MB 16.2 MB/s eta 0:00:01\n",
      "   --------------------------------------  375.7/375.9 MB 16.2 MB/s eta 0:00:01\n",
      "   --------------------------------------  375.7/375.9 MB 16.2 MB/s eta 0:00:01\n",
      "   --------------------------------------  375.7/375.9 MB 16.2 MB/s eta 0:00:01\n",
      "   --------------------------------------  375.7/375.9 MB 16.2 MB/s eta 0:00:01\n",
      "   --------------------------------------  375.7/375.9 MB 16.2 MB/s eta 0:00:01\n",
      "   --------------------------------------  375.7/375.9 MB 16.2 MB/s eta 0:00:01\n",
      "   --------------------------------------  375.7/375.9 MB 16.2 MB/s eta 0:00:01\n",
      "   --------------------------------------  375.7/375.9 MB 16.2 MB/s eta 0:00:01\n",
      "   --------------------------------------  375.7/375.9 MB 16.2 MB/s eta 0:00:01\n",
      "   --------------------------------------  375.7/375.9 MB 16.2 MB/s eta 0:00:01\n",
      "   --------------------------------------  375.7/375.9 MB 16.2 MB/s eta 0:00:01\n",
      "   --------------------------------------  375.7/375.9 MB 16.2 MB/s eta 0:00:01\n",
      "   --------------------------------------  375.7/375.9 MB 16.2 MB/s eta 0:00:01\n",
      "   --------------------------------------  375.7/375.9 MB 16.2 MB/s eta 0:00:01\n",
      "   --------------------------------------  375.7/375.9 MB 16.2 MB/s eta 0:00:01\n",
      "   --------------------------------------  375.7/375.9 MB 16.2 MB/s eta 0:00:01\n",
      "   --------------------------------------  375.7/375.9 MB 16.2 MB/s eta 0:00:01\n",
      "   --------------------------------------  375.7/375.9 MB 16.2 MB/s eta 0:00:01\n",
      "   --------------------------------------  375.7/375.9 MB 16.2 MB/s eta 0:00:01\n",
      "   --------------------------------------  375.7/375.9 MB 16.2 MB/s eta 0:00:01\n",
      "   --------------------------------------  375.7/375.9 MB 16.2 MB/s eta 0:00:01\n",
      "   --------------------------------------  375.7/375.9 MB 16.2 MB/s eta 0:00:01\n",
      "   --------------------------------------  375.7/375.9 MB 16.2 MB/s eta 0:00:01\n",
      "   --------------------------------------  375.7/375.9 MB 16.2 MB/s eta 0:00:01\n",
      "   --------------------------------------  375.7/375.9 MB 16.2 MB/s eta 0:00:01\n",
      "   --------------------------------------  375.7/375.9 MB 16.2 MB/s eta 0:00:01\n",
      "   --------------------------------------  375.7/375.9 MB 16.2 MB/s eta 0:00:01\n",
      "   --------------------------------------  375.7/375.9 MB 16.2 MB/s eta 0:00:01\n",
      "   --------------------------------------  375.7/375.9 MB 16.2 MB/s eta 0:00:01\n",
      "   --------------------------------------  375.7/375.9 MB 16.2 MB/s eta 0:00:01\n",
      "   --------------------------------------  375.7/375.9 MB 16.2 MB/s eta 0:00:01\n",
      "   --------------------------------------  375.7/375.9 MB 16.2 MB/s eta 0:00:01\n",
      "   ---------------------------------------- 375.9/375.9 MB 7.9 MB/s eta 0:00:00\n",
      "Downloading astunparse-1.6.3-py2.py3-none-any.whl (12 kB)\n",
      "Downloading flatbuffers-25.2.10-py2.py3-none-any.whl (30 kB)\n",
      "Downloading gast-0.6.0-py3-none-any.whl (21 kB)\n",
      "Downloading google_pasta-0.2.0-py3-none-any.whl (57 kB)\n",
      "Downloading grpcio-1.71.0-cp311-cp311-win_amd64.whl (4.3 MB)\n",
      "   ---------------------------------------- 0.0/4.3 MB ? eta -:--:--\n",
      "   ---------------------------------- ----- 3.7/4.3 MB 16.8 MB/s eta 0:00:01\n",
      "   ---------------------------------------- 4.3/4.3 MB 9.9 MB/s eta 0:00:00\n",
      "Downloading libclang-18.1.1-py2.py3-none-win_amd64.whl (26.4 MB)\n",
      "   ---------------------------------------- 0.0/26.4 MB ? eta -:--:--\n",
      "   ----- ---------------------------------- 3.9/26.4 MB 21.3 MB/s eta 0:00:02\n",
      "   ------------- -------------------------- 8.9/26.4 MB 21.3 MB/s eta 0:00:01\n",
      "   ------------------- -------------------- 13.1/26.4 MB 20.6 MB/s eta 0:00:01\n",
      "   --------------------------- ------------ 18.1/26.4 MB 20.0 MB/s eta 0:00:01\n",
      "   ---------------------------------- ----- 22.5/26.4 MB 20.7 MB/s eta 0:00:01\n",
      "   ---------------------------------------  26.2/26.4 MB 21.0 MB/s eta 0:00:01\n",
      "   ---------------------------------------  26.2/26.4 MB 21.0 MB/s eta 0:00:01\n",
      "   ---------------------------------------- 26.4/26.4 MB 15.9 MB/s eta 0:00:00\n",
      "Downloading numpy-2.1.3-cp311-cp311-win_amd64.whl (12.9 MB)\n",
      "   ---------------------------------------- 0.0/12.9 MB ? eta -:--:--\n",
      "   ------------ --------------------------- 3.9/12.9 MB 19.6 MB/s eta 0:00:01\n",
      "   ----------------------- ---------------- 7.6/12.9 MB 18.8 MB/s eta 0:00:01\n",
      "   ---------------------------- ----------- 9.2/12.9 MB 15.4 MB/s eta 0:00:01\n",
      "   ---------------------------------------  12.8/12.9 MB 14.1 MB/s eta 0:00:01\n",
      "   ---------------------------------------  12.8/12.9 MB 14.1 MB/s eta 0:00:01\n",
      "   ---------------------------------------- 12.9/12.9 MB 10.4 MB/s eta 0:00:00\n",
      "Downloading opt_einsum-3.4.0-py3-none-any.whl (71 kB)\n",
      "Downloading protobuf-5.29.4-cp310-abi3-win_amd64.whl (434 kB)\n",
      "Downloading requests-2.32.3-py3-none-any.whl (64 kB)\n",
      "Downloading tensorboard-2.19.0-py3-none-any.whl (5.5 MB)\n",
      "   ---------------------------------------- 0.0/5.5 MB ? eta -:--:--\n",
      "   ------------------------------ --------- 4.2/5.5 MB 19.4 MB/s eta 0:00:01\n",
      "   -------------------------------------- - 5.2/5.5 MB 18.7 MB/s eta 0:00:01\n",
      "   ---------------------------------------- 5.5/5.5 MB 8.8 MB/s eta 0:00:00\n",
      "Downloading tensorflow_io_gcs_filesystem-0.31.0-cp311-cp311-win_amd64.whl (1.5 MB)\n",
      "   ---------------------------------------- 0.0/1.5 MB ? eta -:--:--\n",
      "   ----------------------------------- ---- 1.3/1.5 MB 16.9 MB/s eta 0:00:01\n",
      "   ---------------------------------------- 1.5/1.5 MB 4.1 MB/s eta 0:00:00\n",
      "Downloading termcolor-3.0.1-py3-none-any.whl (7.2 kB)\n",
      "Downloading wrapt-1.17.2-cp311-cp311-win_amd64.whl (38 kB)\n",
      "Downloading certifi-2025.1.31-py3-none-any.whl (166 kB)\n",
      "Downloading charset_normalizer-3.4.1-cp311-cp311-win_amd64.whl (102 kB)\n",
      "Downloading idna-3.10-py3-none-any.whl (70 kB)\n",
      "Downloading Markdown-3.7-py3-none-any.whl (106 kB)\n",
      "Downloading tensorboard_data_server-0.7.2-py3-none-any.whl (2.4 kB)\n",
      "Downloading urllib3-2.3.0-py3-none-any.whl (128 kB)\n",
      "Downloading werkzeug-3.1.3-py3-none-any.whl (224 kB)\n",
      "Downloading wheel-0.46.1-py3-none-any.whl (23 kB)\n",
      "Downloading MarkupSafe-3.0.2-cp311-cp311-win_amd64.whl (15 kB)\n",
      "Installing collected packages: libclang, flatbuffers, wrapt, wheel, urllib3, termcolor, tensorflow-io-gcs-filesystem, tensorboard-data-server, protobuf, opt-einsum, numpy, MarkupSafe, markdown, idna, grpcio, google-pasta, gast, charset-normalizer, certifi, werkzeug, requests, astunparse, tensorboard, tensorflow\n",
      "  Attempting uninstall: numpy\n",
      "    Found existing installation: numpy 2.2.4\n",
      "    Uninstalling numpy-2.2.4:\n",
      "      Successfully uninstalled numpy-2.2.4\n",
      "Successfully installed MarkupSafe-3.0.2 astunparse-1.6.3 certifi-2025.1.31 charset-normalizer-3.4.1 flatbuffers-25.2.10 gast-0.6.0 google-pasta-0.2.0 grpcio-1.71.0 idna-3.10 libclang-18.1.1 markdown-3.7 numpy-2.1.3 opt-einsum-3.4.0 protobuf-5.29.4 requests-2.32.3 tensorboard-2.19.0 tensorboard-data-server-0.7.2 tensorflow-2.19.0 tensorflow-io-gcs-filesystem-0.31.0 termcolor-3.0.1 urllib3-2.3.0 werkzeug-3.1.3 wheel-0.46.1 wrapt-1.17.2\n",
      "Note: you may need to restart the kernel to use updated packages.\n"
     ]
    },
    {
     "name": "stderr",
     "output_type": "stream",
     "text": [
      "  WARNING: Failed to remove contents in a temporary directory 'C:\\Users\\Liberty\\OneDrive\\Desktop\\iot project\\anomaly_env\\Lib\\site-packages\\~umpy.libs'.\n",
      "  You can safely remove it manually.\n",
      "  WARNING: Failed to remove contents in a temporary directory 'C:\\Users\\Liberty\\OneDrive\\Desktop\\iot project\\anomaly_env\\Lib\\site-packages\\~umpy'.\n",
      "  You can safely remove it manually.\n"
     ]
    }
   ],
   "source": [
    "%pip install tensorflow\n"
   ]
  },
  {
   "cell_type": "code",
   "execution_count": 12,
   "id": "314dd99b",
   "metadata": {},
   "outputs": [
    {
     "name": "stdout",
     "output_type": "stream",
     "text": [
      "Collecting scikit-learn\n",
      "  Downloading scikit_learn-1.6.1-cp311-cp311-win_amd64.whl.metadata (15 kB)\n",
      "Requirement already satisfied: numpy>=1.19.5 in c:\\users\\liberty\\onedrive\\desktop\\iot project\\anomaly_env\\lib\\site-packages (from scikit-learn) (2.1.3)\n",
      "Collecting scipy>=1.6.0 (from scikit-learn)\n",
      "  Downloading scipy-1.15.2-cp311-cp311-win_amd64.whl.metadata (60 kB)\n",
      "Collecting joblib>=1.2.0 (from scikit-learn)\n",
      "  Downloading joblib-1.4.2-py3-none-any.whl.metadata (5.4 kB)\n",
      "Collecting threadpoolctl>=3.1.0 (from scikit-learn)\n",
      "  Downloading threadpoolctl-3.6.0-py3-none-any.whl.metadata (13 kB)\n",
      "Downloading scikit_learn-1.6.1-cp311-cp311-win_amd64.whl (11.1 MB)\n",
      "   ---------------------------------------- 0.0/11.1 MB ? eta -:--:--\n",
      "   ----------- ---------------------------- 3.1/11.1 MB 20.5 MB/s eta 0:00:01\n",
      "   ---------------- ----------------------- 4.5/11.1 MB 10.7 MB/s eta 0:00:01\n",
      "   ----------------------- ---------------- 6.6/11.1 MB 12.6 MB/s eta 0:00:01\n",
      "   -------------------------------- ------- 8.9/11.1 MB 10.9 MB/s eta 0:00:01\n",
      "   ---------------------------------------- 11.1/11.1 MB 11.2 MB/s eta 0:00:00\n",
      "Downloading joblib-1.4.2-py3-none-any.whl (301 kB)\n",
      "Downloading scipy-1.15.2-cp311-cp311-win_amd64.whl (41.2 MB)\n",
      "   ---------------------------------------- 0.0/41.2 MB ? eta -:--:--\n",
      "   ---- ----------------------------------- 4.2/41.2 MB 19.4 MB/s eta 0:00:02\n",
      "   --------- ------------------------------ 9.7/41.2 MB 24.2 MB/s eta 0:00:02\n",
      "   --------------- ------------------------ 15.5/41.2 MB 23.8 MB/s eta 0:00:02\n",
      "   --------------------- ------------------ 21.8/41.2 MB 25.0 MB/s eta 0:00:01\n",
      "   ------------------------- -------------- 26.7/41.2 MB 24.9 MB/s eta 0:00:01\n",
      "   ----------------------------- ---------- 29.9/41.2 MB 24.6 MB/s eta 0:00:01\n",
      "   ------------------------------ --------- 30.9/41.2 MB 21.8 MB/s eta 0:00:01\n",
      "   ------------------------------ --------- 30.9/41.2 MB 21.8 MB/s eta 0:00:01\n",
      "   ------------------------------- -------- 32.2/41.2 MB 16.9 MB/s eta 0:00:01\n",
      "   --------------------------------- ------ 34.6/41.2 MB 16.5 MB/s eta 0:00:01\n",
      "   ---------------------------------- ----- 35.4/41.2 MB 15.1 MB/s eta 0:00:01\n",
      "   -------------------------------------- - 40.1/41.2 MB 15.6 MB/s eta 0:00:01\n",
      "   ---------------------------------------- 41.2/41.2 MB 14.7 MB/s eta 0:00:00\n",
      "Downloading threadpoolctl-3.6.0-py3-none-any.whl (18 kB)\n",
      "Installing collected packages: threadpoolctl, scipy, joblib, scikit-learn\n",
      "Successfully installed joblib-1.4.2 scikit-learn-1.6.1 scipy-1.15.2 threadpoolctl-3.6.0\n",
      "Note: you may need to restart the kernel to use updated packages.\n"
     ]
    }
   ],
   "source": [
    "%pip install scikit-learn"
   ]
  },
  {
   "cell_type": "code",
   "execution_count": 3,
   "id": "aeed49ce",
   "metadata": {},
   "outputs": [
    {
     "name": "stdout",
     "output_type": "stream",
     "text": [
      "Collecting pyarrow\n",
      "  Downloading pyarrow-19.0.1-cp311-cp311-win_amd64.whl.metadata (3.4 kB)\n",
      "Downloading pyarrow-19.0.1-cp311-cp311-win_amd64.whl (25.3 MB)\n",
      "   ---------------------------------------- 0.0/25.3 MB ? eta -:--:--\n",
      "   ------- -------------------------------- 5.0/25.3 MB 25.1 MB/s eta 0:00:01\n",
      "   ----------------- ---------------------- 10.7/25.3 MB 25.8 MB/s eta 0:00:01\n",
      "   --------------------------- ------------ 17.3/25.3 MB 27.3 MB/s eta 0:00:01\n",
      "   -------------------------------------- - 24.4/25.3 MB 28.6 MB/s eta 0:00:01\n",
      "   ---------------------------------------- 25.3/25.3 MB 24.3 MB/s eta 0:00:00\n",
      "Installing collected packages: pyarrow\n",
      "Successfully installed pyarrow-19.0.1\n",
      "Note: you may need to restart the kernel to use updated packages.\n",
      "Collecting fastparquet\n",
      "  Downloading fastparquet-2024.11.0-cp311-cp311-win_amd64.whl.metadata (4.3 kB)\n",
      "Requirement already satisfied: pandas>=1.5.0 in c:\\users\\liberty\\onedrive\\desktop\\iot project\\anomaly_env\\lib\\site-packages (from fastparquet) (2.2.3)\n",
      "Requirement already satisfied: numpy in c:\\users\\liberty\\onedrive\\desktop\\iot project\\anomaly_env\\lib\\site-packages (from fastparquet) (2.1.3)\n",
      "Collecting cramjam>=2.3 (from fastparquet)\n",
      "  Downloading cramjam-2.9.1-cp311-cp311-win_amd64.whl.metadata (5.0 kB)\n",
      "Collecting fsspec (from fastparquet)\n",
      "  Downloading fsspec-2025.3.2-py3-none-any.whl.metadata (11 kB)\n",
      "Requirement already satisfied: packaging in c:\\users\\liberty\\onedrive\\desktop\\iot project\\anomaly_env\\lib\\site-packages (from fastparquet) (24.2)\n",
      "Requirement already satisfied: python-dateutil>=2.8.2 in c:\\users\\liberty\\onedrive\\desktop\\iot project\\anomaly_env\\lib\\site-packages (from pandas>=1.5.0->fastparquet) (2.9.0.post0)\n",
      "Requirement already satisfied: pytz>=2020.1 in c:\\users\\liberty\\onedrive\\desktop\\iot project\\anomaly_env\\lib\\site-packages (from pandas>=1.5.0->fastparquet) (2025.2)\n",
      "Requirement already satisfied: tzdata>=2022.7 in c:\\users\\liberty\\onedrive\\desktop\\iot project\\anomaly_env\\lib\\site-packages (from pandas>=1.5.0->fastparquet) (2025.2)\n",
      "Requirement already satisfied: six>=1.5 in c:\\users\\liberty\\onedrive\\desktop\\iot project\\anomaly_env\\lib\\site-packages (from python-dateutil>=2.8.2->pandas>=1.5.0->fastparquet) (1.17.0)\n",
      "Downloading fastparquet-2024.11.0-cp311-cp311-win_amd64.whl (671 kB)\n",
      "   ---------------------------------------- 0.0/671.0 kB ? eta -:--:--\n",
      "   ---------------------------------------- 671.0/671.0 kB 5.2 MB/s eta 0:00:00\n",
      "Downloading cramjam-2.9.1-cp311-cp311-win_amd64.whl (2.1 MB)\n",
      "   ---------------------------------------- 0.0/2.1 MB ? eta -:--:--\n",
      "   ---------------------------------------- 2.1/2.1 MB 13.0 MB/s eta 0:00:00\n",
      "Downloading fsspec-2025.3.2-py3-none-any.whl (194 kB)\n",
      "Installing collected packages: fsspec, cramjam, fastparquet\n",
      "Successfully installed cramjam-2.9.1 fastparquet-2024.11.0 fsspec-2025.3.2\n",
      "Note: you may need to restart the kernel to use updated packages.\n"
     ]
    }
   ],
   "source": [
    "%pip install pyarrow\n",
    "%pip install fastparquet"
   ]
  },
  {
   "cell_type": "code",
   "execution_count": 4,
   "id": "2c75fe85",
   "metadata": {},
   "outputs": [],
   "source": [
    "from keras.preprocessing import sequence\n",
    "from keras.models import Sequential\n",
    "from keras.layers import Dense, Dropout, Activation, Lambda\n",
    "from keras.layers import Embedding\n",
    "from keras.layers import Convolution1D,MaxPooling1D, Flatten\n",
    "from keras.datasets import imdb\n",
    "from keras import backend as K\n",
    "from sklearn.model_selection import train_test_split\n",
    "\n",
    "from sklearn.preprocessing import Normalizer\n",
    "from keras.models import Sequential\n",
    "from keras.layers import Convolution1D, Dense, Dropout, Flatten, MaxPooling1D\n",
    "import numpy as np\n",
    "import h5py\n",
    "from keras import callbacks\n",
    "from keras.layers import LSTM, GRU, SimpleRNN\n",
    "from keras.callbacks import CSVLogger\n",
    "from keras.callbacks import ModelCheckpoint, EarlyStopping, ReduceLROnPlateau, CSVLogger\n",
    "from sklearn.metrics import (precision_score, recall_score,f1_score, accuracy_score,mean_squared_error,mean_absolute_error)\n",
    "from sklearn import metrics\n",
    "from sklearn.preprocessing import LabelEncoder"
   ]
  },
  {
   "cell_type": "code",
   "execution_count": 5,
   "id": "365eb134",
   "metadata": {},
   "outputs": [],
   "source": [
    "import pandas as pd\n",
    "\n",
    "# First read the parquet files without specifying names\n",
    "traindata = pd.read_parquet('C:/Users/Liberty/OneDrive/Desktop/iot project/dataset/UNSW_NB15_training-set.parquet')\n",
    "testdata = pd.read_parquet('C:/Users/Liberty/OneDrive/Desktop/iot project/dataset/UNSW_NB15_testing-set.parquet')"
   ]
  },
  {
   "cell_type": "code",
   "execution_count": null,
   "id": "36a1caac",
   "metadata": {},
   "outputs": [
    {
     "name": "stdout",
     "output_type": "stream",
     "text": [
      "Training data: (175341, 36)\n",
      "Testing data: (82332, 36)\n"
     ]
    }
   ],
   "source": [
    "print(f\"Training data: {traindata.shape}\")\n",
    "print(f\"Testing data: {testdata.shape}\")"
   ]
  },
  {
   "cell_type": "code",
   "execution_count": 9,
   "id": "a218a9d1",
   "metadata": {},
   "outputs": [
    {
     "name": "stdout",
     "output_type": "stream",
     "text": [
      "\n",
      "Columns in the dataset:\n",
      "['dur', 'proto', 'service', 'state', 'spkts', 'dpkts', 'sbytes', 'dbytes', 'rate', 'sload', 'dload', 'sloss', 'dloss', 'sinpkt', 'dinpkt', 'sjit', 'djit', 'swin', 'stcpb', 'dtcpb', 'dwin', 'tcprtt', 'synack', 'ackdat', 'smean', 'dmean', 'trans_depth', 'response_body_len', 'ct_src_dport_ltm', 'ct_dst_sport_ltm', 'is_ftp_login', 'ct_ftp_cmd', 'ct_flw_http_mthd', 'is_sm_ips_ports', 'attack_cat', 'label']\n",
      "\n",
      "Sample of training data:\n",
      "        dur proto service state  spkts  dpkts  sbytes  dbytes       rate  \\\n",
      "0  0.121478   tcp       -   FIN      6      4     258     172  74.087486   \n",
      "1  0.649902   tcp       -   FIN     14     38     734   42014  78.473373   \n",
      "2  1.623129   tcp       -   FIN      8     16     364   13186  14.170161   \n",
      "3  1.681642   tcp     ftp   FIN     12     12     628     770  13.677108   \n",
      "4  0.449454   tcp       -   FIN     10      6     534     268  33.373825   \n",
      "\n",
      "          sload  ...  trans_depth  response_body_len  ct_src_dport_ltm  \\\n",
      "0  14158.942383  ...            0                  0                 1   \n",
      "1   8395.112305  ...            0                  0                 1   \n",
      "2   1572.271851  ...            0                  0                 1   \n",
      "3   2740.178955  ...            0                  0                 1   \n",
      "4   8561.499023  ...            0                  0                 2   \n",
      "\n",
      "   ct_dst_sport_ltm  is_ftp_login  ct_ftp_cmd  ct_flw_http_mthd  \\\n",
      "0                 1             0           0                 0   \n",
      "1                 1             0           0                 0   \n",
      "2                 1             0           0                 0   \n",
      "3                 1             1           1                 0   \n",
      "4                 1             0           0                 0   \n",
      "\n",
      "   is_sm_ips_ports  attack_cat  label  \n",
      "0                0      Normal      0  \n",
      "1                0      Normal      0  \n",
      "2                0      Normal      0  \n",
      "3                0      Normal      0  \n",
      "4                0      Normal      0  \n",
      "\n",
      "[5 rows x 36 columns]\n"
     ]
    }
   ],
   "source": [
    "# Print column names for reference\n",
    "print(\"\\nColumns in the dataset:\")\n",
    "print(traindata.columns.tolist())\n",
    "\n",
    "# Show a sample of data\n",
    "print(\"\\nSample of training data:\")\n",
    "print(traindata.head())"
   ]
  },
  {
   "cell_type": "code",
   "execution_count": 10,
   "id": "98abd0fc",
   "metadata": {},
   "outputs": [],
   "source": [
    "for column in traindata.columns:\n",
    "    if traindata[column].dtype == type(object):\n",
    "        le = LabelEncoder()\n",
    "        traindata[column] = le.fit_transform(traindata[column])\n",
    "\n",
    "for column in testdata.columns:\n",
    "    if testdata[column].dtype == type(object):\n",
    "        le = LabelEncoder()\n",
    "        testdata[column] = le.fit_transform(testdata[column])"
   ]
  },
  {
   "cell_type": "code",
   "execution_count": 11,
   "id": "f9ee618e",
   "metadata": {},
   "outputs": [],
   "source": [
    "X_train = traindata.iloc[:, :35]  # All features except label\n",
    "X_test = testdata.iloc[:, :35]\n",
    "\n",
    "y_train = traindata['label']  # Target variable\n",
    "y_test = testdata['label'] "
   ]
  },
  {
   "cell_type": "code",
   "execution_count": 12,
   "id": "aceedf24",
   "metadata": {},
   "outputs": [
    {
     "name": "stdout",
     "output_type": "stream",
     "text": [
      "X_train: (175341, 35), y_train: (175341,)\n",
      "X_test: (82332, 35), y_test: (82332,)\n",
      "\n",
      "Applying one-hot encoding to categorical features...\n"
     ]
    }
   ],
   "source": [
    "print(f\"X_train: {X_train.shape}, y_train: {y_train.shape}\")\n",
    "print(f\"X_test: {X_test.shape}, y_test: {y_test.shape}\")\n",
    "\n",
    "# Process categorical features with one-hot encoding\n",
    "print(\"\\nApplying one-hot encoding to categorical features...\")\n",
    "# Combine train and test to ensure consistent encoding\n",
    "X_combined = pd.concat([X_train, X_test])\n",
    "X_combined = pd.get_dummies(X_combined)"
   ]
  },
  {
   "cell_type": "code",
   "execution_count": 13,
   "id": "ec3a80f0",
   "metadata": {},
   "outputs": [
    {
     "name": "stdout",
     "output_type": "stream",
     "text": [
      "Feature shapes after one-hot encoding:\n",
      "X_train: (175341, 198), X_test: (82332, 198)\n"
     ]
    }
   ],
   "source": [
    "# Split back to train and test\n",
    "X_train = X_combined.iloc[:len(X_train)]\n",
    "X_test = X_combined.iloc[len(X_train):]\n",
    "\n",
    "print(f\"Feature shapes after one-hot encoding:\")\n",
    "print(f\"X_train: {X_train.shape}, X_test: {X_test.shape}\")"
   ]
  },
  {
   "cell_type": "code",
   "execution_count": 14,
   "id": "706f7100",
   "metadata": {},
   "outputs": [
    {
     "name": "stdout",
     "output_type": "stream",
     "text": [
      "\n",
      "Normalizing features...\n"
     ]
    }
   ],
   "source": [
    "# Normalize the data\n",
    "print(\"\\nNormalizing features...\")\n",
    "scaler = Normalizer()\n",
    "X_train = scaler.fit_transform(X_train)\n",
    "X_test = scaler.transform(X_test)\n",
    "\n",
    "# Ensure y values are proper integers for classification\n",
    "y_train = np.array(y_train, dtype=np.int32)\n",
    "y_test = np.array(y_test, dtype=np.int32)"
   ]
  },
  {
   "cell_type": "code",
   "execution_count": 15,
   "id": "af5f1087",
   "metadata": {},
   "outputs": [
    {
     "name": "stdout",
     "output_type": "stream",
     "text": [
      "\n",
      "Class distribution:\n",
      "Training set: [ 56000 119341]\n",
      "Testing set: [37000 45332]\n",
      "\n",
      "Reshaped data dimensions:\n",
      "X_train: (175341, 198, 1), y_train: (175341,)\n",
      "X_test: (82332, 198, 1), y_test: (82332,)\n"
     ]
    }
   ],
   "source": [
    "print(\"\\nClass distribution:\")\n",
    "print(f\"Training set: {np.bincount(y_train)}\")\n",
    "print(f\"Testing set: {np.bincount(y_test)}\")\n",
    "\n",
    "# Reshape data for CNN (samples, timesteps, features)\n",
    "X_train = X_train.reshape(X_train.shape[0], X_train.shape[1], 1)\n",
    "X_test = X_test.reshape(X_test.shape[0], X_test.shape[1], 1)\n",
    "\n",
    "print(\"\\nReshaped data dimensions:\")\n",
    "print(f\"X_train: {X_train.shape}, y_train: {y_train.shape}\")\n",
    "print(f\"X_test: {X_test.shape}, y_test: {y_test.shape}\")"
   ]
  },
  {
   "cell_type": "code",
   "execution_count": 16,
   "id": "a016e7ab",
   "metadata": {},
   "outputs": [
    {
     "name": "stdout",
     "output_type": "stream",
     "text": [
      "\n",
      "Model input shape: (198, 1)\n"
     ]
    }
   ],
   "source": [
    "# Define model input shape based on processed data\n",
    "input_shape = (X_train.shape[1], 1)\n",
    "print(f\"\\nModel input shape: {input_shape}\")"
   ]
  },
  {
   "cell_type": "code",
   "execution_count": 18,
   "id": "21c3356a",
   "metadata": {},
   "outputs": [
    {
     "name": "stdout",
     "output_type": "stream",
     "text": [
      "\n",
      "Building CNN model...\n"
     ]
    },
    {
     "name": "stderr",
     "output_type": "stream",
     "text": [
      "c:\\Users\\Liberty\\OneDrive\\Desktop\\iot project\\anomaly_env\\Lib\\site-packages\\keras\\src\\layers\\convolutional\\base_conv.py:107: UserWarning: Do not pass an `input_shape`/`input_dim` argument to a layer. When using Sequential models, prefer using an `Input(shape)` object as the first layer in the model instead.\n",
      "  super().__init__(activity_regularizer=activity_regularizer, **kwargs)\n"
     ]
    }
   ],
   "source": [
    "from keras.layers import Conv1D, MaxPooling1D, Flatten, Dense, Dropout\n",
    "\n",
    "# Define CNN model with appropriate dimensions\n",
    "print(\"\\nBuilding CNN model...\")\n",
    "cnn = Sequential()\n",
    "\n",
    "# Adapt convolution kernel size to input dimension\n",
    "kernel_size = min(3, input_shape[0])\n",
    "cnn.add(Conv1D(128, kernel_size=kernel_size, activation='relu', input_shape=input_shape))\n",
    "\n",
    "# Only add pooling if dimension is large enough\n",
    "if input_shape[0] >= 4:\n",
    "    cnn.add(MaxPooling1D(pool_size=2))\n",
    "else:\n",
    "    print(\"Warning: Input dimension too small for pooling, skipping MaxPooling1D layer\")\n",
    "\n",
    "cnn.add(Dropout(0.3))\n",
    "cnn.add(Flatten())\n",
    "cnn.add(Dense(64, activation='relu'))\n",
    "cnn.add(Dropout(0.3))\n",
    "cnn.add(Dense(1, activation='sigmoid'))  # Binary classification\n",
    "\n",
    "# Compile model\n",
    "cnn.compile(loss='binary_crossentropy', optimizer='adam', metrics=['accuracy'])"
   ]
  },
  {
   "cell_type": "code",
   "execution_count": 19,
   "id": "c5ddba74",
   "metadata": {},
   "outputs": [
    {
     "name": "stdout",
     "output_type": "stream",
     "text": [
      "\n",
      "Model Summary:\n"
     ]
    },
    {
     "data": {
      "text/html": [
       "<pre style=\"white-space:pre;overflow-x:auto;line-height:normal;font-family:Menlo,'DejaVu Sans Mono',consolas,'Courier New',monospace\"><span style=\"font-weight: bold\">Model: \"sequential_1\"</span>\n",
       "</pre>\n"
      ],
      "text/plain": [
       "\u001b[1mModel: \"sequential_1\"\u001b[0m\n"
      ]
     },
     "metadata": {},
     "output_type": "display_data"
    },
    {
     "data": {
      "text/html": [
       "<pre style=\"white-space:pre;overflow-x:auto;line-height:normal;font-family:Menlo,'DejaVu Sans Mono',consolas,'Courier New',monospace\">┏━━━━━━━━━━━━━━━━━━━━━━━━━━━━━━━━━┳━━━━━━━━━━━━━━━━━━━━━━━━┳━━━━━━━━━━━━━━━┓\n",
       "┃<span style=\"font-weight: bold\"> Layer (type)                    </span>┃<span style=\"font-weight: bold\"> Output Shape           </span>┃<span style=\"font-weight: bold\">       Param # </span>┃\n",
       "┡━━━━━━━━━━━━━━━━━━━━━━━━━━━━━━━━━╇━━━━━━━━━━━━━━━━━━━━━━━━╇━━━━━━━━━━━━━━━┩\n",
       "│ conv1d (<span style=\"color: #0087ff; text-decoration-color: #0087ff\">Conv1D</span>)                 │ (<span style=\"color: #00d7ff; text-decoration-color: #00d7ff\">None</span>, <span style=\"color: #00af00; text-decoration-color: #00af00\">196</span>, <span style=\"color: #00af00; text-decoration-color: #00af00\">128</span>)       │           <span style=\"color: #00af00; text-decoration-color: #00af00\">512</span> │\n",
       "├─────────────────────────────────┼────────────────────────┼───────────────┤\n",
       "│ max_pooling1d (<span style=\"color: #0087ff; text-decoration-color: #0087ff\">MaxPooling1D</span>)    │ (<span style=\"color: #00d7ff; text-decoration-color: #00d7ff\">None</span>, <span style=\"color: #00af00; text-decoration-color: #00af00\">98</span>, <span style=\"color: #00af00; text-decoration-color: #00af00\">128</span>)        │             <span style=\"color: #00af00; text-decoration-color: #00af00\">0</span> │\n",
       "├─────────────────────────────────┼────────────────────────┼───────────────┤\n",
       "│ dropout (<span style=\"color: #0087ff; text-decoration-color: #0087ff\">Dropout</span>)               │ (<span style=\"color: #00d7ff; text-decoration-color: #00d7ff\">None</span>, <span style=\"color: #00af00; text-decoration-color: #00af00\">98</span>, <span style=\"color: #00af00; text-decoration-color: #00af00\">128</span>)        │             <span style=\"color: #00af00; text-decoration-color: #00af00\">0</span> │\n",
       "├─────────────────────────────────┼────────────────────────┼───────────────┤\n",
       "│ flatten (<span style=\"color: #0087ff; text-decoration-color: #0087ff\">Flatten</span>)               │ (<span style=\"color: #00d7ff; text-decoration-color: #00d7ff\">None</span>, <span style=\"color: #00af00; text-decoration-color: #00af00\">12544</span>)          │             <span style=\"color: #00af00; text-decoration-color: #00af00\">0</span> │\n",
       "├─────────────────────────────────┼────────────────────────┼───────────────┤\n",
       "│ dense (<span style=\"color: #0087ff; text-decoration-color: #0087ff\">Dense</span>)                   │ (<span style=\"color: #00d7ff; text-decoration-color: #00d7ff\">None</span>, <span style=\"color: #00af00; text-decoration-color: #00af00\">64</span>)             │       <span style=\"color: #00af00; text-decoration-color: #00af00\">802,880</span> │\n",
       "├─────────────────────────────────┼────────────────────────┼───────────────┤\n",
       "│ dropout_1 (<span style=\"color: #0087ff; text-decoration-color: #0087ff\">Dropout</span>)             │ (<span style=\"color: #00d7ff; text-decoration-color: #00d7ff\">None</span>, <span style=\"color: #00af00; text-decoration-color: #00af00\">64</span>)             │             <span style=\"color: #00af00; text-decoration-color: #00af00\">0</span> │\n",
       "├─────────────────────────────────┼────────────────────────┼───────────────┤\n",
       "│ dense_1 (<span style=\"color: #0087ff; text-decoration-color: #0087ff\">Dense</span>)                 │ (<span style=\"color: #00d7ff; text-decoration-color: #00d7ff\">None</span>, <span style=\"color: #00af00; text-decoration-color: #00af00\">1</span>)              │            <span style=\"color: #00af00; text-decoration-color: #00af00\">65</span> │\n",
       "└─────────────────────────────────┴────────────────────────┴───────────────┘\n",
       "</pre>\n"
      ],
      "text/plain": [
       "┏━━━━━━━━━━━━━━━━━━━━━━━━━━━━━━━━━┳━━━━━━━━━━━━━━━━━━━━━━━━┳━━━━━━━━━━━━━━━┓\n",
       "┃\u001b[1m \u001b[0m\u001b[1mLayer (type)                   \u001b[0m\u001b[1m \u001b[0m┃\u001b[1m \u001b[0m\u001b[1mOutput Shape          \u001b[0m\u001b[1m \u001b[0m┃\u001b[1m \u001b[0m\u001b[1m      Param #\u001b[0m\u001b[1m \u001b[0m┃\n",
       "┡━━━━━━━━━━━━━━━━━━━━━━━━━━━━━━━━━╇━━━━━━━━━━━━━━━━━━━━━━━━╇━━━━━━━━━━━━━━━┩\n",
       "│ conv1d (\u001b[38;5;33mConv1D\u001b[0m)                 │ (\u001b[38;5;45mNone\u001b[0m, \u001b[38;5;34m196\u001b[0m, \u001b[38;5;34m128\u001b[0m)       │           \u001b[38;5;34m512\u001b[0m │\n",
       "├─────────────────────────────────┼────────────────────────┼───────────────┤\n",
       "│ max_pooling1d (\u001b[38;5;33mMaxPooling1D\u001b[0m)    │ (\u001b[38;5;45mNone\u001b[0m, \u001b[38;5;34m98\u001b[0m, \u001b[38;5;34m128\u001b[0m)        │             \u001b[38;5;34m0\u001b[0m │\n",
       "├─────────────────────────────────┼────────────────────────┼───────────────┤\n",
       "│ dropout (\u001b[38;5;33mDropout\u001b[0m)               │ (\u001b[38;5;45mNone\u001b[0m, \u001b[38;5;34m98\u001b[0m, \u001b[38;5;34m128\u001b[0m)        │             \u001b[38;5;34m0\u001b[0m │\n",
       "├─────────────────────────────────┼────────────────────────┼───────────────┤\n",
       "│ flatten (\u001b[38;5;33mFlatten\u001b[0m)               │ (\u001b[38;5;45mNone\u001b[0m, \u001b[38;5;34m12544\u001b[0m)          │             \u001b[38;5;34m0\u001b[0m │\n",
       "├─────────────────────────────────┼────────────────────────┼───────────────┤\n",
       "│ dense (\u001b[38;5;33mDense\u001b[0m)                   │ (\u001b[38;5;45mNone\u001b[0m, \u001b[38;5;34m64\u001b[0m)             │       \u001b[38;5;34m802,880\u001b[0m │\n",
       "├─────────────────────────────────┼────────────────────────┼───────────────┤\n",
       "│ dropout_1 (\u001b[38;5;33mDropout\u001b[0m)             │ (\u001b[38;5;45mNone\u001b[0m, \u001b[38;5;34m64\u001b[0m)             │             \u001b[38;5;34m0\u001b[0m │\n",
       "├─────────────────────────────────┼────────────────────────┼───────────────┤\n",
       "│ dense_1 (\u001b[38;5;33mDense\u001b[0m)                 │ (\u001b[38;5;45mNone\u001b[0m, \u001b[38;5;34m1\u001b[0m)              │            \u001b[38;5;34m65\u001b[0m │\n",
       "└─────────────────────────────────┴────────────────────────┴───────────────┘\n"
      ]
     },
     "metadata": {},
     "output_type": "display_data"
    },
    {
     "data": {
      "text/html": [
       "<pre style=\"white-space:pre;overflow-x:auto;line-height:normal;font-family:Menlo,'DejaVu Sans Mono',consolas,'Courier New',monospace\"><span style=\"font-weight: bold\"> Total params: </span><span style=\"color: #00af00; text-decoration-color: #00af00\">803,457</span> (3.06 MB)\n",
       "</pre>\n"
      ],
      "text/plain": [
       "\u001b[1m Total params: \u001b[0m\u001b[38;5;34m803,457\u001b[0m (3.06 MB)\n"
      ]
     },
     "metadata": {},
     "output_type": "display_data"
    },
    {
     "data": {
      "text/html": [
       "<pre style=\"white-space:pre;overflow-x:auto;line-height:normal;font-family:Menlo,'DejaVu Sans Mono',consolas,'Courier New',monospace\"><span style=\"font-weight: bold\"> Trainable params: </span><span style=\"color: #00af00; text-decoration-color: #00af00\">803,457</span> (3.06 MB)\n",
       "</pre>\n"
      ],
      "text/plain": [
       "\u001b[1m Trainable params: \u001b[0m\u001b[38;5;34m803,457\u001b[0m (3.06 MB)\n"
      ]
     },
     "metadata": {},
     "output_type": "display_data"
    },
    {
     "data": {
      "text/html": [
       "<pre style=\"white-space:pre;overflow-x:auto;line-height:normal;font-family:Menlo,'DejaVu Sans Mono',consolas,'Courier New',monospace\"><span style=\"font-weight: bold\"> Non-trainable params: </span><span style=\"color: #00af00; text-decoration-color: #00af00\">0</span> (0.00 B)\n",
       "</pre>\n"
      ],
      "text/plain": [
       "\u001b[1m Non-trainable params: \u001b[0m\u001b[38;5;34m0\u001b[0m (0.00 B)\n"
      ]
     },
     "metadata": {},
     "output_type": "display_data"
    },
    {
     "name": "stdout",
     "output_type": "stream",
     "text": [
      "\n",
      "Setting up training callbacks...\n"
     ]
    }
   ],
   "source": [
    "# Display model summary\n",
    "print(\"\\nModel Summary:\")\n",
    "cnn.summary()\n",
    "\n",
    "# Setup callbacks for model training\n",
    "print(\"\\nSetting up training callbacks...\")\n",
    "checkpointer = ModelCheckpoint(\n",
    "    filepath=\"results/cnn3results/checkpoint-{epoch:02d}.keras\",\n",
    "    verbose=1,\n",
    "    save_best_only=True,\n",
    "    monitor='val_accuracy',\n",
    "    mode='max'\n",
    ")\n",
    "\n",
    "early_stopping = EarlyStopping(\n",
    "    monitor='val_loss',\n",
    "    patience=10,\n",
    "    verbose=1,\n",
    "    restore_best_weights=True\n",
    ")\n",
    "\n",
    "reduce_lr = ReduceLROnPlateau(\n",
    "    monitor='val_loss',\n",
    "    factor=0.2,\n",
    "    patience=5,\n",
    "    min_lr=0.0001,\n",
    "    verbose=1\n",
    ")\n",
    "\n",
    "csv_logger = CSVLogger('results/cnn3results/cnntrainanalysis1.csv', separator=',', append=False)\n"
   ]
  },
  {
   "cell_type": "code",
   "execution_count": 20,
   "id": "0a10b3b0",
   "metadata": {},
   "outputs": [
    {
     "name": "stdout",
     "output_type": "stream",
     "text": [
      "\n",
      "Training the model...\n",
      "Epoch 1/50\n",
      "\u001b[1m5479/5480\u001b[0m \u001b[32m━━━━━━━━━━━━━━━━━━━\u001b[0m\u001b[37m━\u001b[0m \u001b[1m0s\u001b[0m 22ms/step - accuracy: 0.7612 - loss: 0.4293\n",
      "Epoch 1: val_accuracy improved from -inf to 0.68757, saving model to results/cnn3results/checkpoint-01.keras\n",
      "\u001b[1m5480/5480\u001b[0m \u001b[32m━━━━━━━━━━━━━━━━━━━━\u001b[0m\u001b[37m\u001b[0m \u001b[1m138s\u001b[0m 24ms/step - accuracy: 0.7612 - loss: 0.4293 - val_accuracy: 0.6876 - val_loss: 0.5365 - learning_rate: 0.0010\n",
      "Epoch 2/50\n",
      "\u001b[1m5480/5480\u001b[0m \u001b[32m━━━━━━━━━━━━━━━━━━━━\u001b[0m\u001b[37m\u001b[0m \u001b[1m0s\u001b[0m 28ms/step - accuracy: 0.7990 - loss: 0.3901\n",
      "Epoch 2: val_accuracy improved from 0.68757 to 0.68823, saving model to results/cnn3results/checkpoint-02.keras\n",
      "\u001b[1m5480/5480\u001b[0m \u001b[32m━━━━━━━━━━━━━━━━━━━━\u001b[0m\u001b[37m\u001b[0m \u001b[1m181s\u001b[0m 31ms/step - accuracy: 0.7990 - loss: 0.3901 - val_accuracy: 0.6882 - val_loss: 0.5271 - learning_rate: 0.0010\n",
      "Epoch 3/50\n",
      "\u001b[1m5479/5480\u001b[0m \u001b[32m━━━━━━━━━━━━━━━━━━━\u001b[0m\u001b[37m━\u001b[0m \u001b[1m0s\u001b[0m 27ms/step - accuracy: 0.8119 - loss: 0.3800\n",
      "Epoch 3: val_accuracy improved from 0.68823 to 0.68826, saving model to results/cnn3results/checkpoint-03.keras\n",
      "\u001b[1m5480/5480\u001b[0m \u001b[32m━━━━━━━━━━━━━━━━━━━━\u001b[0m\u001b[37m\u001b[0m \u001b[1m188s\u001b[0m 29ms/step - accuracy: 0.8119 - loss: 0.3800 - val_accuracy: 0.6883 - val_loss: 0.5330 - learning_rate: 0.0010\n",
      "Epoch 4/50\n",
      "\u001b[1m5479/5480\u001b[0m \u001b[32m━━━━━━━━━━━━━━━━━━━\u001b[0m\u001b[37m━\u001b[0m \u001b[1m0s\u001b[0m 23ms/step - accuracy: 0.8120 - loss: 0.3773\n",
      "Epoch 4: val_accuracy did not improve from 0.68826\n",
      "\u001b[1m5480/5480\u001b[0m \u001b[32m━━━━━━━━━━━━━━━━━━━━\u001b[0m\u001b[37m\u001b[0m \u001b[1m145s\u001b[0m 26ms/step - accuracy: 0.8120 - loss: 0.3773 - val_accuracy: 0.6867 - val_loss: 0.5387 - learning_rate: 0.0010\n",
      "Epoch 5/50\n",
      "\u001b[1m5479/5480\u001b[0m \u001b[32m━━━━━━━━━━━━━━━━━━━\u001b[0m\u001b[37m━\u001b[0m \u001b[1m0s\u001b[0m 23ms/step - accuracy: 0.8173 - loss: 0.3675\n",
      "Epoch 5: val_accuracy did not improve from 0.68826\n",
      "\u001b[1m5480/5480\u001b[0m \u001b[32m━━━━━━━━━━━━━━━━━━━━\u001b[0m\u001b[37m\u001b[0m \u001b[1m205s\u001b[0m 27ms/step - accuracy: 0.8173 - loss: 0.3675 - val_accuracy: 0.6876 - val_loss: 0.5249 - learning_rate: 0.0010\n",
      "Epoch 6/50\n",
      "\u001b[1m5479/5480\u001b[0m \u001b[32m━━━━━━━━━━━━━━━━━━━\u001b[0m\u001b[37m━\u001b[0m \u001b[1m0s\u001b[0m 23ms/step - accuracy: 0.8199 - loss: 0.3661\n",
      "Epoch 6: val_accuracy did not improve from 0.68826\n",
      "\u001b[1m5480/5480\u001b[0m \u001b[32m━━━━━━━━━━━━━━━━━━━━\u001b[0m\u001b[37m\u001b[0m \u001b[1m201s\u001b[0m 27ms/step - accuracy: 0.8199 - loss: 0.3661 - val_accuracy: 0.6871 - val_loss: 0.5441 - learning_rate: 0.0010\n",
      "Epoch 7/50\n",
      "\u001b[1m5478/5480\u001b[0m \u001b[32m━━━━━━━━━━━━━━━━━━━\u001b[0m\u001b[37m━\u001b[0m \u001b[1m0s\u001b[0m 23ms/step - accuracy: 0.8207 - loss: 0.3636\n",
      "Epoch 7: val_accuracy did not improve from 0.68826\n",
      "\u001b[1m5480/5480\u001b[0m \u001b[32m━━━━━━━━━━━━━━━━━━━━\u001b[0m\u001b[37m\u001b[0m \u001b[1m196s\u001b[0m 26ms/step - accuracy: 0.8207 - loss: 0.3636 - val_accuracy: 0.6873 - val_loss: 0.5262 - learning_rate: 0.0010\n",
      "Epoch 8/50\n",
      "\u001b[1m5479/5480\u001b[0m \u001b[32m━━━━━━━━━━━━━━━━━━━\u001b[0m\u001b[37m━\u001b[0m \u001b[1m0s\u001b[0m 24ms/step - accuracy: 0.8202 - loss: 0.3647\n",
      "Epoch 8: val_accuracy did not improve from 0.68826\n",
      "\u001b[1m5480/5480\u001b[0m \u001b[32m━━━━━━━━━━━━━━━━━━━━\u001b[0m\u001b[37m\u001b[0m \u001b[1m143s\u001b[0m 26ms/step - accuracy: 0.8202 - loss: 0.3647 - val_accuracy: 0.6871 - val_loss: 0.5239 - learning_rate: 0.0010\n",
      "Epoch 9/50\n",
      "\u001b[1m5480/5480\u001b[0m \u001b[32m━━━━━━━━━━━━━━━━━━━━\u001b[0m\u001b[37m\u001b[0m \u001b[1m0s\u001b[0m 25ms/step - accuracy: 0.8238 - loss: 0.3606\n",
      "Epoch 9: val_accuracy improved from 0.68826 to 0.70654, saving model to results/cnn3results/checkpoint-09.keras\n",
      "\u001b[1m5480/5480\u001b[0m \u001b[32m━━━━━━━━━━━━━━━━━━━━\u001b[0m\u001b[37m\u001b[0m \u001b[1m150s\u001b[0m 27ms/step - accuracy: 0.8238 - loss: 0.3606 - val_accuracy: 0.7065 - val_loss: 0.5341 - learning_rate: 0.0010\n",
      "Epoch 10/50\n",
      "\u001b[1m5478/5480\u001b[0m \u001b[32m━━━━━━━━━━━━━━━━━━━\u001b[0m\u001b[37m━\u001b[0m \u001b[1m0s\u001b[0m 25ms/step - accuracy: 0.8223 - loss: 0.3640\n",
      "Epoch 10: val_accuracy did not improve from 0.70654\n",
      "\u001b[1m5480/5480\u001b[0m \u001b[32m━━━━━━━━━━━━━━━━━━━━\u001b[0m\u001b[37m\u001b[0m \u001b[1m155s\u001b[0m 28ms/step - accuracy: 0.8223 - loss: 0.3640 - val_accuracy: 0.6972 - val_loss: 0.5343 - learning_rate: 0.0010\n",
      "Epoch 11/50\n",
      "\u001b[1m5480/5480\u001b[0m \u001b[32m━━━━━━━━━━━━━━━━━━━━\u001b[0m\u001b[37m\u001b[0m \u001b[1m0s\u001b[0m 25ms/step - accuracy: 0.8234 - loss: 0.3615\n",
      "Epoch 11: val_accuracy did not improve from 0.70654\n",
      "\u001b[1m5480/5480\u001b[0m \u001b[32m━━━━━━━━━━━━━━━━━━━━\u001b[0m\u001b[37m\u001b[0m \u001b[1m151s\u001b[0m 28ms/step - accuracy: 0.8234 - loss: 0.3615 - val_accuracy: 0.6870 - val_loss: 0.5434 - learning_rate: 0.0010\n",
      "Epoch 12/50\n",
      "\u001b[1m5480/5480\u001b[0m \u001b[32m━━━━━━━━━━━━━━━━━━━━\u001b[0m\u001b[37m\u001b[0m \u001b[1m0s\u001b[0m 24ms/step - accuracy: 0.8235 - loss: 0.3595\n",
      "Epoch 12: val_accuracy did not improve from 0.70654\n",
      "\u001b[1m5480/5480\u001b[0m \u001b[32m━━━━━━━━━━━━━━━━━━━━\u001b[0m\u001b[37m\u001b[0m \u001b[1m195s\u001b[0m 26ms/step - accuracy: 0.8235 - loss: 0.3595 - val_accuracy: 0.7021 - val_loss: 0.5405 - learning_rate: 0.0010\n",
      "Epoch 13/50\n",
      "\u001b[1m5479/5480\u001b[0m \u001b[32m━━━━━━━━━━━━━━━━━━━\u001b[0m\u001b[37m━\u001b[0m \u001b[1m0s\u001b[0m 25ms/step - accuracy: 0.8241 - loss: 0.3606\n",
      "Epoch 13: val_accuracy did not improve from 0.70654\n",
      "\n",
      "Epoch 13: ReduceLROnPlateau reducing learning rate to 0.00020000000949949026.\n",
      "\u001b[1m5480/5480\u001b[0m \u001b[32m━━━━━━━━━━━━━━━━━━━━\u001b[0m\u001b[37m\u001b[0m \u001b[1m155s\u001b[0m 28ms/step - accuracy: 0.8241 - loss: 0.3606 - val_accuracy: 0.7037 - val_loss: 0.5495 - learning_rate: 0.0010\n",
      "Epoch 14/50\n",
      "\u001b[1m5479/5480\u001b[0m \u001b[32m━━━━━━━━━━━━━━━━━━━\u001b[0m\u001b[37m━\u001b[0m \u001b[1m0s\u001b[0m 24ms/step - accuracy: 0.8247 - loss: 0.3552\n",
      "Epoch 14: val_accuracy did not improve from 0.70654\n",
      "\u001b[1m5480/5480\u001b[0m \u001b[32m━━━━━━━━━━━━━━━━━━━━\u001b[0m\u001b[37m\u001b[0m \u001b[1m146s\u001b[0m 27ms/step - accuracy: 0.8247 - loss: 0.3552 - val_accuracy: 0.7017 - val_loss: 0.5352 - learning_rate: 2.0000e-04\n",
      "Epoch 15/50\n",
      "\u001b[1m5480/5480\u001b[0m \u001b[32m━━━━━━━━━━━━━━━━━━━━\u001b[0m\u001b[37m\u001b[0m \u001b[1m0s\u001b[0m 25ms/step - accuracy: 0.8268 - loss: 0.3521\n",
      "Epoch 15: val_accuracy did not improve from 0.70654\n",
      "\u001b[1m5480/5480\u001b[0m \u001b[32m━━━━━━━━━━━━━━━━━━━━\u001b[0m\u001b[37m\u001b[0m \u001b[1m149s\u001b[0m 27ms/step - accuracy: 0.8268 - loss: 0.3521 - val_accuracy: 0.7005 - val_loss: 0.5404 - learning_rate: 2.0000e-04\n",
      "Epoch 16/50\n",
      "\u001b[1m5480/5480\u001b[0m \u001b[32m━━━━━━━━━━━━━━━━━━━━\u001b[0m\u001b[37m\u001b[0m \u001b[1m0s\u001b[0m 25ms/step - accuracy: 0.8277 - loss: 0.3500\n",
      "Epoch 16: val_accuracy did not improve from 0.70654\n",
      "\u001b[1m5480/5480\u001b[0m \u001b[32m━━━━━━━━━━━━━━━━━━━━\u001b[0m\u001b[37m\u001b[0m \u001b[1m159s\u001b[0m 29ms/step - accuracy: 0.8277 - loss: 0.3500 - val_accuracy: 0.6991 - val_loss: 0.5331 - learning_rate: 2.0000e-04\n",
      "Epoch 17/50\n",
      "\u001b[1m5479/5480\u001b[0m \u001b[32m━━━━━━━━━━━━━━━━━━━\u001b[0m\u001b[37m━\u001b[0m \u001b[1m0s\u001b[0m 26ms/step - accuracy: 0.8268 - loss: 0.3508\n",
      "Epoch 17: val_accuracy did not improve from 0.70654\n",
      "\u001b[1m5480/5480\u001b[0m \u001b[32m━━━━━━━━━━━━━━━━━━━━\u001b[0m\u001b[37m\u001b[0m \u001b[1m207s\u001b[0m 30ms/step - accuracy: 0.8268 - loss: 0.3508 - val_accuracy: 0.6984 - val_loss: 0.5393 - learning_rate: 2.0000e-04\n",
      "Epoch 18/50\n",
      "\u001b[1m5479/5480\u001b[0m \u001b[32m━━━━━━━━━━━━━━━━━━━\u001b[0m\u001b[37m━\u001b[0m \u001b[1m0s\u001b[0m 27ms/step - accuracy: 0.8277 - loss: 0.3511\n",
      "Epoch 18: val_accuracy did not improve from 0.70654\n",
      "\n",
      "Epoch 18: ReduceLROnPlateau reducing learning rate to 0.0001.\n",
      "\u001b[1m5480/5480\u001b[0m \u001b[32m━━━━━━━━━━━━━━━━━━━━\u001b[0m\u001b[37m\u001b[0m \u001b[1m205s\u001b[0m 30ms/step - accuracy: 0.8277 - loss: 0.3511 - val_accuracy: 0.7017 - val_loss: 0.5328 - learning_rate: 2.0000e-04\n",
      "Epoch 18: early stopping\n",
      "Restoring model weights from the end of the best epoch: 8.\n",
      "\n",
      "Saving the trained model...\n"
     ]
    }
   ],
   "source": [
    "# Train the model\n",
    "print(\"\\nTraining the model...\")\n",
    "history = cnn.fit(\n",
    "    X_train, y_train,\n",
    "    epochs=50,  # Reduced from 1000 for faster initial testing\n",
    "    batch_size=32,\n",
    "    validation_data=(X_test, y_test),\n",
    "    callbacks=[checkpointer, csv_logger, early_stopping, reduce_lr],\n",
    "    verbose=1\n",
    ")\n",
    "\n",
    "# Save the final model\n",
    "print(\"\\nSaving the trained model...\")\n",
    "cnn.save(\"results/cnn3results/cnn_model.keras\")"
   ]
  },
  {
   "cell_type": "code",
   "execution_count": 21,
   "id": "9141a2a5",
   "metadata": {},
   "outputs": [
    {
     "name": "stdout",
     "output_type": "stream",
     "text": [
      "\n",
      "Evaluating model on test data...\n",
      "\u001b[1m2573/2573\u001b[0m \u001b[32m━━━━━━━━━━━━━━━━━━━━\u001b[0m\u001b[37m\u001b[0m \u001b[1m16s\u001b[0m 6ms/step - accuracy: 0.8532 - loss: 0.3197\n",
      "Test Loss: 0.5239418148994446\n",
      "Test Accuracy: 0.6871447563171387\n"
     ]
    }
   ],
   "source": [
    "# Evaluate the model\n",
    "print(\"\\nEvaluating model on test data...\")\n",
    "test_loss, test_accuracy = cnn.evaluate(X_test, y_test, verbose=1)\n",
    "print(f\"Test Loss: {test_loss}\")\n",
    "print(f\"Test Accuracy: {test_accuracy}\")"
   ]
  },
  {
   "cell_type": "code",
   "execution_count": 22,
   "id": "cec4d999",
   "metadata": {},
   "outputs": [
    {
     "name": "stdout",
     "output_type": "stream",
     "text": [
      "\n",
      "Generating predictions...\n",
      "\u001b[1m2573/2573\u001b[0m \u001b[32m━━━━━━━━━━━━━━━━━━━━\u001b[0m\u001b[37m\u001b[0m \u001b[1m17s\u001b[0m 6ms/step\n"
     ]
    }
   ],
   "source": [
    "# Make predictions\n",
    "print(\"\\nGenerating predictions...\")\n",
    "y_pred_prob = cnn.predict(X_test)\n",
    "y_pred = (y_pred_prob > 0.5).astype(int)"
   ]
  },
  {
   "cell_type": "code",
   "execution_count": 23,
   "id": "54995fe6",
   "metadata": {},
   "outputs": [
    {
     "name": "stdout",
     "output_type": "stream",
     "text": [
      "\n",
      "Model Performance Metrics:\n",
      "Precision: 0.6408\n",
      "Recall: 0.9826\n",
      "F1 Score: 0.7757\n",
      "Accuracy: 0.6871\n"
     ]
    }
   ],
   "source": [
    "# Calculate performance metrics\n",
    "precision = precision_score(y_test, y_pred, average='binary')\n",
    "recall = recall_score(y_test, y_pred, average='binary')\n",
    "f1 = f1_score(y_test, y_pred, average='binary')\n",
    "\n",
    "print(\"\\nModel Performance Metrics:\")\n",
    "print(f\"Precision: {precision:.4f}\")\n",
    "print(f\"Recall: {recall:.4f}\")\n",
    "print(f\"F1 Score: {f1:.4f}\")\n",
    "print(f\"Accuracy: {test_accuracy:.4f}\")"
   ]
  }
 ],
 "metadata": {
  "kernelspec": {
   "display_name": "anomaly_env",
   "language": "python",
   "name": "python3"
  },
  "language_info": {
   "codemirror_mode": {
    "name": "ipython",
    "version": 3
   },
   "file_extension": ".py",
   "mimetype": "text/x-python",
   "name": "python",
   "nbconvert_exporter": "python",
   "pygments_lexer": "ipython3",
   "version": "3.11.4"
  }
 },
 "nbformat": 4,
 "nbformat_minor": 5
}
