{
 "cells": [
  {
   "cell_type": "code",
   "execution_count": 1,
   "id": "174abc7f",
   "metadata": {},
   "outputs": [],
   "source": [
    "from __future__ import print_function\n",
    "import numpy as np\n",
    "np.random.seed(1337)  # for reproducibility"
   ]
  },
  {
   "cell_type": "code",
   "execution_count": 2,
   "id": "659ee929",
   "metadata": {},
   "outputs": [],
   "source": [
    "from keras.preprocessing import sequence\n",
    "from keras.models import Sequential\n",
    "from keras.layers import Dense, Dropout, Activation, Lambda\n",
    "from keras.layers import Embedding\n",
    "from keras.layers import Convolution1D,MaxPooling1D, Flatten\n",
    "from keras.datasets import imdb\n",
    "from keras import backend as K\n",
    "from sklearn.model_selection import train_test_split\n",
    "import pandas as pd\n",
    "\n",
    "from sklearn.preprocessing import Normalizer\n",
    "from keras.models import Sequential\n",
    "from keras.layers import Convolution1D, Dense, Dropout, Flatten, MaxPooling1D\n",
    "# from keras.utils import np_utils\n",
    "import numpy as np\n",
    "import h5py\n",
    "from keras import callbacks\n",
    "from keras.layers import LSTM, GRU, SimpleRNN\n",
    "from keras.callbacks import CSVLogger\n",
    "from keras.callbacks import ModelCheckpoint, EarlyStopping, ReduceLROnPlateau, CSVLogger\n",
    "from sklearn.metrics import (precision_score, recall_score,f1_score, accuracy_score,mean_squared_error,mean_absolute_error)\n",
    "from sklearn import metrics\n",
    "from sklearn.preprocessing import LabelEncoder"
   ]
  },
  {
   "cell_type": "code",
   "execution_count": 3,
   "id": "15b736d4",
   "metadata": {},
   "outputs": [],
   "source": [
    "testdata=pd.read_parquet('dataset/UNSW_NB15_testing-set.parquet')"
   ]
  },
  {
   "cell_type": "code",
   "execution_count": 7,
   "id": "e6068230",
   "metadata": {},
   "outputs": [
    {
     "name": "stdout",
     "output_type": "stream",
     "text": [
      "\n",
      "--- Dataset Info ---\n",
      "Shape: (82332, 36)\n",
      "Columns: ['dur', 'proto', 'service', 'state', 'spkts', 'dpkts', 'sbytes', 'dbytes', 'rate', 'sload', 'dload', 'sloss', 'dloss', 'sinpkt', 'dinpkt', 'sjit', 'djit', 'swin', 'stcpb', 'dtcpb', 'dwin', 'tcprtt', 'synack', 'ackdat', 'smean', 'dmean', 'trans_depth', 'response_body_len', 'ct_src_dport_ltm', 'ct_dst_sport_ltm', 'is_ftp_login', 'ct_ftp_cmd', 'ct_flw_http_mthd', 'is_sm_ips_ports', 'attack_cat', 'label']\n",
      "Data types: \n",
      "dur                   float32\n",
      "proto                category\n",
      "service              category\n",
      "state                category\n",
      "spkts                   int16\n",
      "dpkts                   int16\n",
      "sbytes                  int32\n",
      "dbytes                  int32\n",
      "rate                  float32\n",
      "sload                 float32\n",
      "dload                 float32\n",
      "sloss                   int16\n",
      "dloss                   int16\n",
      "sinpkt                float32\n",
      "dinpkt                float32\n",
      "sjit                  float32\n",
      "djit                  float32\n",
      "swin                    int16\n",
      "stcpb                   int64\n",
      "dtcpb                   int64\n",
      "dwin                    int16\n",
      "tcprtt                float32\n",
      "synack                float32\n",
      "ackdat                float32\n",
      "smean                   int16\n",
      "dmean                   int16\n",
      "trans_depth             int16\n",
      "response_body_len       int32\n",
      "ct_src_dport_ltm         int8\n",
      "ct_dst_sport_ltm         int8\n",
      "is_ftp_login             int8\n",
      "ct_ftp_cmd               int8\n",
      "ct_flw_http_mthd         int8\n",
      "is_sm_ips_ports          int8\n",
      "attack_cat           category\n",
      "label                    int8\n",
      "dtype: object\n",
      "Class distribution (label column):\n",
      "label\n",
      "1    45332\n",
      "0    37000\n",
      "Name: count, dtype: int64\n"
     ]
    }
   ],
   "source": [
    "# Display basic information about the dataset first to understand the structure\n",
    "print(\"\\n--- Dataset Info ---\")\n",
    "print(f\"Shape: {testdata.shape}\")\n",
    "print(f\"Columns: {testdata.columns.tolist()}\")\n",
    "print(f\"Data types: \\n{testdata.dtypes}\")\n",
    "print(f\"Class distribution (label column):\")\n",
    "print(testdata.iloc[:, 35].value_counts())"
   ]
  },
  {
   "cell_type": "code",
   "execution_count": 8,
   "id": "435475cd",
   "metadata": {},
   "outputs": [
    {
     "name": "stdout",
     "output_type": "stream",
     "text": [
      "\n",
      "Categorical columns: ['state', 'trans_depth', 'is_ftp_login', 'ct_ftp_cmd', 'ct_flw_http_mthd', 'is_sm_ips_ports']\n",
      "Numerical columns: ['dur', 'proto', 'service', 'spkts', 'dpkts', 'sbytes', 'dbytes', 'rate', 'sload', 'dload', 'sloss', 'dloss', 'sinpkt', 'dinpkt', 'sjit', 'djit', 'swin', 'stcpb', 'dtcpb', 'dwin', 'tcprtt', 'synack', 'ackdat', 'smean', 'dmean', 'response_body_len', 'ct_src_dport_ltm', 'ct_dst_sport_ltm', 'attack_cat']\n"
     ]
    }
   ],
   "source": [
    "# Identify categorical and numerical columns\n",
    "# You may need to adjust these based on your dataset's specific columns\n",
    "categorical_columns = []\n",
    "numerical_columns = []\n",
    "\n",
    "# Check each column to identify categorical features\n",
    "for col in testdata.columns[:-1]:  # Exclude the target column\n",
    "    if testdata[col].dtype == 'object' or testdata[col].nunique() < 10:\n",
    "        categorical_columns.append(col)\n",
    "    else:\n",
    "        numerical_columns.append(col)\n",
    "\n",
    "print(f\"\\nCategorical columns: {categorical_columns}\")\n",
    "print(f\"Numerical columns: {numerical_columns}\")"
   ]
  },
  {
   "cell_type": "code",
   "execution_count": 20,
   "id": "d423efeb",
   "metadata": {},
   "outputs": [
    {
     "name": "stdout",
     "output_type": "stream",
     "text": [
      "\n",
      "Manually defined categorical columns: ['proto', 'service', 'state', 'trans_depth', 'is_ftp_login', 'ct_ftp_cmd', 'ct_flw_http_mthd', 'is_sm_ips_ports']\n",
      "Manually defined numerical columns: ['dur', 'spkts', 'dpkts', 'sbytes', 'dbytes', 'rate', 'sload', 'dload', 'sloss', 'dloss', 'sinpkt', 'dinpkt', 'sjit', 'djit', 'swin', 'stcpb', 'dtcpb', 'dwin', 'tcprtt', 'synack', 'ackdat', 'smean', 'dmean', 'response_body_len', 'ct_src_dport_ltm', 'ct_dst_sport_ltm']\n"
     ]
    }
   ],
   "source": [
    "# Let's manually define the categorical and numerical columns based on your info\n",
    "categorical_columns = ['proto', 'service', 'state', 'trans_depth', 'is_ftp_login', \n",
    "                       'ct_ftp_cmd', 'ct_flw_http_mthd', 'is_sm_ips_ports']\n",
    "# attack_cat\n",
    "numerical_columns = ['dur', 'spkts', 'dpkts', 'sbytes', 'dbytes', 'rate', 'sload', \n",
    "                    'dload', 'sloss', 'dloss', 'sinpkt', 'dinpkt', 'sjit', 'djit', \n",
    "                    'swin', 'stcpb', 'dtcpb', 'dwin', 'tcprtt', 'synack', 'ackdat', \n",
    "                    'smean', 'dmean', 'response_body_len', 'ct_src_dport_ltm', \n",
    "                    'ct_dst_sport_ltm']\n",
    "\n",
    "print(f\"\\nManually defined categorical columns: {categorical_columns}\")\n",
    "print(f\"Manually defined numerical columns: {numerical_columns}\")"
   ]
  },
  {
   "cell_type": "code",
   "execution_count": 23,
   "id": "a446001b",
   "metadata": {},
   "outputs": [
    {
     "name": "stdout",
     "output_type": "stream",
     "text": [
      "Processed data shape: (82332, 201)\n"
     ]
    }
   ],
   "source": [
    "# Preprocessing function\n",
    "from sklearn.compose import ColumnTransformer\n",
    "from sklearn.pipeline import Pipeline\n",
    "from sklearn.preprocessing import OneHotEncoder\n",
    "\n",
    "# Preprocessing function\n",
    "def preprocess_data(data):\n",
    "    # Separate features and target\n",
    "    X = data.iloc[:, :35]  # Feature columns\n",
    "    y = data.iloc[:, 35].values  # Label column\n",
    "    \n",
    "    # Create column transformer for preprocessing\n",
    "    preprocessor = ColumnTransformer(\n",
    "        transformers=[\n",
    "            ('num', Pipeline([\n",
    "                ('normalizer', Normalizer())\n",
    "            ]), numerical_columns),\n",
    "            ('cat', Pipeline([\n",
    "                ('onehot', OneHotEncoder(sparse_output=False, handle_unknown='ignore'))\n",
    "            ]), categorical_columns)\n",
    "        ],\n",
    "        remainder='drop'  # Drop any columns not specified\n",
    "    )\n",
    "    \n",
    "    # Apply preprocessing\n",
    "    X_processed = preprocessor.fit_transform(X)\n",
    "    print(f\"Processed data shape: {X_processed.shape}\")\n",
    "    \n",
    "    # Reshape for CNN-LSTM model\n",
    "    X_reshaped = np.reshape(X_processed, (X_processed.shape[0], X_processed.shape[1], 1))\n",
    "    \n",
    "    return X_processed, X_reshaped, y, preprocessor\n",
    "\n",
    "# Apply preprocessing\n",
    "X_processed, X_reshaped, y, preprocessor = preprocess_data(testdata)"
   ]
  },
  {
   "cell_type": "code",
   "execution_count": 27,
   "id": "48687ca8",
   "metadata": {},
   "outputs": [
    {
     "name": "stdout",
     "output_type": "stream",
     "text": [
      "\n",
      "Training data shape: (65865, 201, 1)\n",
      "Validation data shape: (16467, 201, 1)\n"
     ]
    }
   ],
   "source": [
    "# Split into training and validation sets\n",
    "X_train, X_val, y_train, y_val = train_test_split(\n",
    "    X_reshaped, y, test_size=0.2, random_state=42, stratify=y\n",
    ")\n",
    "\n",
    "print(f\"\\nTraining data shape: {X_train.shape}\")\n",
    "print(f\"Validation data shape: {X_val.shape}\")"
   ]
  },
  {
   "cell_type": "code",
   "execution_count": 28,
   "id": "b1473dae",
   "metadata": {},
   "outputs": [
    {
     "name": "stdout",
     "output_type": "stream",
     "text": [
      "\n",
      "Building CNN-LSTM model...\n"
     ]
    },
    {
     "name": "stderr",
     "output_type": "stream",
     "text": [
      "c:\\Users\\Liberty\\OneDrive\\Desktop\\iot project\\anomaly_env\\Lib\\site-packages\\keras\\src\\layers\\convolutional\\base_conv.py:107: UserWarning: Do not pass an `input_shape`/`input_dim` argument to a layer. When using Sequential models, prefer using an `Input(shape)` object as the first layer in the model instead.\n",
      "  super().__init__(activity_regularizer=activity_regularizer, **kwargs)\n"
     ]
    }
   ],
   "source": [
    "# Build the model\n",
    "print(\"\\nBuilding CNN-LSTM model...\")\n",
    "from keras.models import Sequential\n",
    "from keras.layers import Dense, Dropout, Activation, Conv1D, MaxPooling1D, LSTM\n",
    "from keras.callbacks import ModelCheckpoint, EarlyStopping\n",
    "\n",
    "# Adjust input shape based on preprocessed data\n",
    "input_shape = (X_train.shape[1], 1)\n",
    "\n",
    "model = Sequential()\n",
    "\n",
    "# CNN layers\n",
    "model.add(Conv1D(filters=64, kernel_size=3, activation='relu', padding='same', \n",
    "                input_shape=input_shape))\n",
    "model.add(Conv1D(filters=64, kernel_size=3, activation='relu', padding='same'))\n",
    "model.add(MaxPooling1D(pool_size=2))\n",
    "\n",
    "model.add(Conv1D(filters=128, kernel_size=3, activation='relu', padding='same'))\n",
    "model.add(Conv1D(filters=128, kernel_size=3, activation='relu', padding='same'))\n",
    "model.add(MaxPooling1D(pool_size=2))\n",
    "\n",
    "# LSTM layer\n",
    "model.add(LSTM(70))\n",
    "model.add(Dropout(0.5))\n",
    "\n",
    "# Output layer\n",
    "model.add(Dense(1, activation='sigmoid'))\n",
    "\n",
    "# Compile the model\n",
    "model.compile(\n",
    "    loss='binary_crossentropy',\n",
    "    optimizer='adam',\n",
    "    metrics=['accuracy']\n",
    ")"
   ]
  },
  {
   "cell_type": "code",
   "execution_count": 29,
   "id": "5220657c",
   "metadata": {},
   "outputs": [
    {
     "name": "stdout",
     "output_type": "stream",
     "text": [
      "\n",
      "Training the model...\n",
      "Epoch 1/15\n",
      "\u001b[1m1030/1030\u001b[0m \u001b[32m━━━━━━━━━━━━━━━━━━━━\u001b[0m\u001b[37m\u001b[0m \u001b[1m0s\u001b[0m 115ms/step - accuracy: 0.7236 - loss: 0.5060\n",
      "Epoch 1: val_accuracy improved from -inf to 0.79310, saving model to new_anomaly_model.keras\n",
      "\u001b[1m1030/1030\u001b[0m \u001b[32m━━━━━━━━━━━━━━━━━━━━\u001b[0m\u001b[37m\u001b[0m \u001b[1m141s\u001b[0m 127ms/step - accuracy: 0.7237 - loss: 0.5059 - val_accuracy: 0.7931 - val_loss: 0.3774\n",
      "Epoch 2/15\n",
      "\u001b[1m1030/1030\u001b[0m \u001b[32m━━━━━━━━━━━━━━━━━━━━\u001b[0m\u001b[37m\u001b[0m \u001b[1m0s\u001b[0m 114ms/step - accuracy: 0.7966 - loss: 0.3774\n",
      "Epoch 2: val_accuracy improved from 0.79310 to 0.79450, saving model to new_anomaly_model.keras\n",
      "\u001b[1m1030/1030\u001b[0m \u001b[32m━━━━━━━━━━━━━━━━━━━━\u001b[0m\u001b[37m\u001b[0m \u001b[1m140s\u001b[0m 124ms/step - accuracy: 0.7966 - loss: 0.3774 - val_accuracy: 0.7945 - val_loss: 0.3734\n",
      "Epoch 3/15\n",
      "\u001b[1m1029/1030\u001b[0m \u001b[32m━━━━━━━━━━━━━━━━━━━\u001b[0m\u001b[37m━\u001b[0m \u001b[1m0s\u001b[0m 113ms/step - accuracy: 0.7988 - loss: 0.3703\n",
      "Epoch 3: val_accuracy did not improve from 0.79450\n",
      "\u001b[1m1030/1030\u001b[0m \u001b[32m━━━━━━━━━━━━━━━━━━━━\u001b[0m\u001b[37m\u001b[0m \u001b[1m140s\u001b[0m 121ms/step - accuracy: 0.7988 - loss: 0.3703 - val_accuracy: 0.7916 - val_loss: 0.3749\n",
      "Epoch 4/15\n",
      "\u001b[1m1029/1030\u001b[0m \u001b[32m━━━━━━━━━━━━━━━━━━━\u001b[0m\u001b[37m━\u001b[0m \u001b[1m0s\u001b[0m 125ms/step - accuracy: 0.7994 - loss: 0.3687\n",
      "Epoch 4: val_accuracy did not improve from 0.79450\n",
      "\u001b[1m1030/1030\u001b[0m \u001b[32m━━━━━━━━━━━━━━━━━━━━\u001b[0m\u001b[37m\u001b[0m \u001b[1m139s\u001b[0m 134ms/step - accuracy: 0.7994 - loss: 0.3687 - val_accuracy: 0.7934 - val_loss: 0.3694\n",
      "Epoch 5/15\n",
      "\u001b[1m1029/1030\u001b[0m \u001b[32m━━━━━━━━━━━━━━━━━━━\u001b[0m\u001b[37m━\u001b[0m \u001b[1m0s\u001b[0m 111ms/step - accuracy: 0.8018 - loss: 0.3674\n",
      "Epoch 5: val_accuracy improved from 0.79450 to 0.79583, saving model to new_anomaly_model.keras\n",
      "\u001b[1m1030/1030\u001b[0m \u001b[32m━━━━━━━━━━━━━━━━━━━━\u001b[0m\u001b[37m\u001b[0m \u001b[1m127s\u001b[0m 120ms/step - accuracy: 0.8018 - loss: 0.3673 - val_accuracy: 0.7958 - val_loss: 0.3668\n",
      "Epoch 6/15\n",
      "\u001b[1m1029/1030\u001b[0m \u001b[32m━━━━━━━━━━━━━━━━━━━\u001b[0m\u001b[37m━\u001b[0m \u001b[1m0s\u001b[0m 110ms/step - accuracy: 0.8002 - loss: 0.3668\n",
      "Epoch 6: val_accuracy did not improve from 0.79583\n",
      "\u001b[1m1030/1030\u001b[0m \u001b[32m━━━━━━━━━━━━━━━━━━━━\u001b[0m\u001b[37m\u001b[0m \u001b[1m143s\u001b[0m 121ms/step - accuracy: 0.8002 - loss: 0.3668 - val_accuracy: 0.7940 - val_loss: 0.3714\n",
      "Epoch 7/15\n",
      "\u001b[1m1029/1030\u001b[0m \u001b[32m━━━━━━━━━━━━━━━━━━━\u001b[0m\u001b[37m━\u001b[0m \u001b[1m0s\u001b[0m 113ms/step - accuracy: 0.8009 - loss: 0.3666\n",
      "Epoch 7: val_accuracy did not improve from 0.79583\n",
      "\u001b[1m1030/1030\u001b[0m \u001b[32m━━━━━━━━━━━━━━━━━━━━\u001b[0m\u001b[37m\u001b[0m \u001b[1m137s\u001b[0m 133ms/step - accuracy: 0.8009 - loss: 0.3666 - val_accuracy: 0.7936 - val_loss: 0.3683\n",
      "Epoch 8/15\n",
      "\u001b[1m1029/1030\u001b[0m \u001b[32m━━━━━━━━━━━━━━━━━━━\u001b[0m\u001b[37m━\u001b[0m \u001b[1m0s\u001b[0m 107ms/step - accuracy: 0.8011 - loss: 0.3665\n",
      "Epoch 8: val_accuracy did not improve from 0.79583\n",
      "\u001b[1m1030/1030\u001b[0m \u001b[32m━━━━━━━━━━━━━━━━━━━━\u001b[0m\u001b[37m\u001b[0m \u001b[1m124s\u001b[0m 116ms/step - accuracy: 0.8011 - loss: 0.3665 - val_accuracy: 0.7952 - val_loss: 0.3695\n",
      "Epoch 9/15\n",
      "\u001b[1m1029/1030\u001b[0m \u001b[32m━━━━━━━━━━━━━━━━━━━\u001b[0m\u001b[37m━\u001b[0m \u001b[1m0s\u001b[0m 112ms/step - accuracy: 0.8016 - loss: 0.3651\n",
      "Epoch 9: val_accuracy did not improve from 0.79583\n",
      "\u001b[1m1030/1030\u001b[0m \u001b[32m━━━━━━━━━━━━━━━━━━━━\u001b[0m\u001b[37m\u001b[0m \u001b[1m148s\u001b[0m 121ms/step - accuracy: 0.8016 - loss: 0.3651 - val_accuracy: 0.7939 - val_loss: 0.3690\n",
      "Epoch 10/15\n",
      "\u001b[1m1029/1030\u001b[0m \u001b[32m━━━━━━━━━━━━━━━━━━━\u001b[0m\u001b[37m━\u001b[0m \u001b[1m0s\u001b[0m 105ms/step - accuracy: 0.8018 - loss: 0.3643\n",
      "Epoch 10: val_accuracy improved from 0.79583 to 0.79662, saving model to new_anomaly_model.keras\n",
      "\u001b[1m1030/1030\u001b[0m \u001b[32m━━━━━━━━━━━━━━━━━━━━\u001b[0m\u001b[37m\u001b[0m \u001b[1m135s\u001b[0m 114ms/step - accuracy: 0.8018 - loss: 0.3643 - val_accuracy: 0.7966 - val_loss: 0.3651\n",
      "Epoch 11/15\n",
      "\u001b[1m1029/1030\u001b[0m \u001b[32m━━━━━━━━━━━━━━━━━━━\u001b[0m\u001b[37m━\u001b[0m \u001b[1m0s\u001b[0m 106ms/step - accuracy: 0.8013 - loss: 0.3662\n",
      "Epoch 11: val_accuracy improved from 0.79662 to 0.79875, saving model to new_anomaly_model.keras\n",
      "\u001b[1m1030/1030\u001b[0m \u001b[32m━━━━━━━━━━━━━━━━━━━━\u001b[0m\u001b[37m\u001b[0m \u001b[1m118s\u001b[0m 115ms/step - accuracy: 0.8013 - loss: 0.3662 - val_accuracy: 0.7987 - val_loss: 0.3654\n",
      "Epoch 12/15\n",
      "\u001b[1m1029/1030\u001b[0m \u001b[32m━━━━━━━━━━━━━━━━━━━\u001b[0m\u001b[37m━\u001b[0m \u001b[1m0s\u001b[0m 106ms/step - accuracy: 0.8002 - loss: 0.3634\n",
      "Epoch 12: val_accuracy did not improve from 0.79875\n",
      "\u001b[1m1030/1030\u001b[0m \u001b[32m━━━━━━━━━━━━━━━━━━━━\u001b[0m\u001b[37m\u001b[0m \u001b[1m118s\u001b[0m 114ms/step - accuracy: 0.8002 - loss: 0.3634 - val_accuracy: 0.7943 - val_loss: 0.3766\n",
      "Epoch 13/15\n",
      "\u001b[1m1029/1030\u001b[0m \u001b[32m━━━━━━━━━━━━━━━━━━━\u001b[0m\u001b[37m━\u001b[0m \u001b[1m0s\u001b[0m 108ms/step - accuracy: 0.8067 - loss: 0.3607\n",
      "Epoch 13: val_accuracy did not improve from 0.79875\n",
      "\u001b[1m1030/1030\u001b[0m \u001b[32m━━━━━━━━━━━━━━━━━━━━\u001b[0m\u001b[37m\u001b[0m \u001b[1m120s\u001b[0m 116ms/step - accuracy: 0.8067 - loss: 0.3607 - val_accuracy: 0.7952 - val_loss: 0.3665\n",
      "Epoch 14/15\n",
      "\u001b[1m1029/1030\u001b[0m \u001b[32m━━━━━━━━━━━━━━━━━━━\u001b[0m\u001b[37m━\u001b[0m \u001b[1m0s\u001b[0m 107ms/step - accuracy: 0.8008 - loss: 0.3658\n",
      "Epoch 14: val_accuracy did not improve from 0.79875\n",
      "\u001b[1m1030/1030\u001b[0m \u001b[32m━━━━━━━━━━━━━━━━━━━━\u001b[0m\u001b[37m\u001b[0m \u001b[1m119s\u001b[0m 115ms/step - accuracy: 0.8008 - loss: 0.3658 - val_accuracy: 0.7955 - val_loss: 0.3689\n",
      "Epoch 15/15\n",
      "\u001b[1m1030/1030\u001b[0m \u001b[32m━━━━━━━━━━━━━━━━━━━━\u001b[0m\u001b[37m\u001b[0m \u001b[1m0s\u001b[0m 110ms/step - accuracy: 0.8001 - loss: 0.3654\n",
      "Epoch 15: val_accuracy did not improve from 0.79875\n",
      "\u001b[1m1030/1030\u001b[0m \u001b[32m━━━━━━━━━━━━━━━━━━━━\u001b[0m\u001b[37m\u001b[0m \u001b[1m126s\u001b[0m 122ms/step - accuracy: 0.8001 - loss: 0.3654 - val_accuracy: 0.7926 - val_loss: 0.3687\n",
      "Restoring model weights from the end of the best epoch: 11.\n"
     ]
    }
   ],
   "source": [
    "# Define callbacks\n",
    "checkpoint = ModelCheckpoint(\n",
    "    \"new_anomaly_model.keras\",\n",
    "    monitor='val_accuracy',\n",
    "    save_best_only=True,\n",
    "    verbose=1\n",
    ")\n",
    "\n",
    "early_stopping = EarlyStopping(\n",
    "    monitor='val_accuracy',\n",
    "    patience=5,\n",
    "    restore_best_weights=True,\n",
    "    verbose=1\n",
    ")\n",
    "\n",
    "# Train the model\n",
    "print(\"\\nTraining the model...\")\n",
    "history = model.fit(\n",
    "    X_train, y_train,\n",
    "    epochs=15,\n",
    "    batch_size=64,\n",
    "    validation_data=(X_val, y_val),\n",
    "    callbacks=[checkpoint, early_stopping],\n",
    "    verbose=1\n",
    ")"
   ]
  },
  {
   "cell_type": "code",
   "execution_count": 34,
   "id": "e59296fc",
   "metadata": {},
   "outputs": [
    {
     "data": {
      "image/png": "[encoded data removed]",
      "text/plain": [
       "<Figure size 1200x500 with 2 Axes>"
      ]
     },
     "metadata": {},
     "output_type": "display_data"
    }
   ],
   "source": [
    "# Plot training history\n",
    "from matplotlib import pyplot as plt\n",
    "\n",
    "\n",
    "plt.figure(figsize=(12, 5))\n",
    "plt.subplot(1, 2, 1)\n",
    "plt.plot(history.history['accuracy'])\n",
    "plt.plot(history.history['val_accuracy'])\n",
    "plt.title('Model Accuracy')\n",
    "plt.ylabel('Accuracy')\n",
    "plt.xlabel('Epoch')\n",
    "plt.legend(['Train', 'Validation'], loc='lower right')\n",
    "\n",
    "plt.subplot(1, 2, 2)\n",
    "plt.plot(history.history['loss'])\n",
    "plt.plot(history.history['val_loss'])\n",
    "plt.title('Model Loss')\n",
    "plt.ylabel('Loss')\n",
    "plt.xlabel('Epoch')\n",
    "plt.legend(['Train', 'Validation'], loc='upper right')\n",
    "plt.tight_layout()\n",
    "plt.show()"
   ]
  },
  {
   "cell_type": "code",
   "execution_count": 35,
   "id": "4b7a82d3",
   "metadata": {},
   "outputs": [
    {
     "name": "stdout",
     "output_type": "stream",
     "text": [
      "\n",
      "Evaluating the model on the test set...\n",
      "\u001b[1m515/515\u001b[0m \u001b[32m━━━━━━━━━━━━━━━━━━━━\u001b[0m\u001b[37m\u001b[0m \u001b[1m14s\u001b[0m 27ms/step - accuracy: 0.8016 - loss: 0.3625\n",
      "Test Loss: 0.3654\n",
      "Test Accuracy: 0.7987\n"
     ]
    }
   ],
   "source": [
    "# Evaluate on the test set\n",
    "print(\"\\nEvaluating the model on the test set...\")\n",
    "loss, accuracy = model.evaluate(X_val, y_val, verbose=1)\n",
    "print(f\"Test Loss: {loss:.4f}\")\n",
    "print(f\"Test Accuracy: {accuracy:.4f}\")"
   ]
  },
  {
   "cell_type": "code",
   "execution_count": 36,
   "id": "b648ee40",
   "metadata": {},
   "outputs": [
    {
     "name": "stdout",
     "output_type": "stream",
     "text": [
      "\n",
      "Generating predictions and metrics...\n"
     ]
    },
    {
     "name": "stdout",
     "output_type": "stream",
     "text": [
      "\u001b[1m515/515\u001b[0m \u001b[32m━━━━━━━━━━━━━━━━━━━━\u001b[0m\u001b[37m\u001b[0m \u001b[1m14s\u001b[0m 28ms/step\n",
      "\n",
      "Classification Report:\n",
      "              precision    recall  f1-score   support\n",
      "\n",
      "           0       0.71      0.95      0.81      7400\n",
      "           1       0.94      0.68      0.79      9067\n",
      "\n",
      "    accuracy                           0.80     16467\n",
      "   macro avg       0.82      0.81      0.80     16467\n",
      "weighted avg       0.84      0.80      0.80     16467\n",
      "\n",
      "\n",
      "Confusion Matrix:\n",
      "[[7015  385]\n",
      " [2929 6138]]\n",
      "\n",
      "Detailed Metrics:\n",
      "True Negatives: 7015\n",
      "False Positives: 385\n",
      "False Negatives: 2929\n",
      "True Positives: 6138\n",
      "Precision: 0.9410\n",
      "Recall: 0.6770\n",
      "F1 Score: 0.7874\n",
      "Accuracy: 0.7987\n"
     ]
    }
   ],
   "source": [
    "# Make predictions\n",
    "from sklearn.metrics import classification_report, confusion_matrix\n",
    "\n",
    "print(\"\\nGenerating predictions and metrics...\")\n",
    "y_pred = model.predict(X_val)\n",
    "y_pred_binary = (y_pred > 0.5).astype(int)\n",
    "\n",
    "# Calculate performance metrics\n",
    "print(\"\\nClassification Report:\")\n",
    "print(classification_report(y_val, y_pred_binary))\n",
    "print(\"\\nConfusion Matrix:\")\n",
    "cm = confusion_matrix(y_val, y_pred_binary)\n",
    "print(cm)\n",
    "\n",
    "# Calculate additional metrics\n",
    "tn, fp, fn, tp = cm.ravel()\n",
    "precision = tp / (tp + fp) if (tp + fp) > 0 else 0\n",
    "recall = tp / (tp + fn) if (tp + fn) > 0 else 0\n",
    "f1 = 2 * precision * recall / (precision + recall) if (precision + recall) > 0 else 0\n",
    "\n",
    "print(\"\\nDetailed Metrics:\")\n",
    "print(f\"True Negatives: {tn}\")\n",
    "print(f\"False Positives: {fp}\")\n",
    "print(f\"False Negatives: {fn}\")\n",
    "print(f\"True Positives: {tp}\")\n",
    "print(f\"Precision: {precision:.4f}\")\n",
    "print(f\"Recall: {recall:.4f}\")\n",
    "print(f\"F1 Score: {f1:.4f}\")\n",
    "print(f\"Accuracy: {(tp + tn) / (tp + tn + fp + fn):.4f}\")"
   ]
  },
  {
   "cell_type": "code",
   "execution_count": 37,
   "id": "10c371b7",
   "metadata": {},
   "outputs": [
    {
     "name": "stdout",
     "output_type": "stream",
     "text": [
      "\n",
      "Model saved as 'unsw_nb15_anomaly_detector.keras'\n"
     ]
    }
   ],
   "source": [
    "# Save the model\n",
    "model.save(\"unsw_nb15_anomaly_detector.keras\")\n",
    "print(\"\\nModel saved as 'unsw_nb15_anomaly_detector.keras'\")"
   ]
  }
 ],
 "metadata": {
  "kernelspec": {
   "display_name": "anomaly_env",
   "language": "python",
   "name": "python3"
  },
  "language_info": {
   "codemirror_mode": {
    "name": "ipython",
    "version": 3
   },
   "file_extension": ".py",
   "mimetype": "text/x-python",
   "name": "python",
   "nbconvert_exporter": "python",
   "pygments_lexer": "ipython3",
   "version": "3.11.4"
  }
 },
 "nbformat": 4,
 "nbformat_minor": 5
}
